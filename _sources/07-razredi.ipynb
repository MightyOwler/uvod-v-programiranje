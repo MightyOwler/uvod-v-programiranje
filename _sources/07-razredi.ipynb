{
 "cells": [
  {
   "cell_type": "markdown",
   "id": "ec46938b",
   "metadata": {},
   "source": [
    "# Razredi\n",
    "\n",
    "V Pythonu sorodne vrednosti združujemo v _razredih_. Posameznim pripadnikom razredov pravimo _objekti_. Vsi objekti istega razreda uporabljajo isto definicijo metod, vsak izmed njih pa ima svoje vrednosti, ki jim pravimo _atributi_. Na primer, seznami pripadajo razredu `list`. Vsak seznam ima svoje elemente, vsi pa podpirajo iste metode kot so `append`, `pop` ali `sort`, ki se na vsakem seznamu obnašajo na isti način. Nizi pripadajo razredu `str`. Vsak niz ima svoje znake, vsi pa imajo skupno definicije metod kot so `split`, `upper` in podobno.\n",
    "\n",
    "## Definicije lastnih razredov\n",
    "\n",
    "Če želimo, lahko definiramo tudi svoj razred. To naredimo z ukazom `class`, ki mu sledi ime razreda (pisano z veliko začetnico) ter zamaknjene definicije metod. Na primer, definirajmo si razred, ki bo predstavljal aritmetična zaporedja $a, a + d, a + 2d, a + 3d, \\ldots$. Za začetek definirajmo nobene metode, zato v definicijo napišimo le `pass`."
   ]
  },
  {
   "cell_type": "code",
   "execution_count": 1,
   "id": "155a05d7",
   "metadata": {},
   "outputs": [],
   "source": [
    "class AritmeticnoZaporedje:\n",
    "    pass"
   ]
  },
  {
   "cell_type": "markdown",
   "id": "a8aa69ab",
   "metadata": {},
   "source": [
    "Nove objekte danega razreda dobimo tako, da napišemo ime razreda ter oklepaje:"
   ]
  },
  {
   "cell_type": "code",
   "execution_count": 2,
   "id": "c2efcae8",
   "metadata": {},
   "outputs": [
    {
     "data": {
      "text/plain": [
       "<__main__.AritmeticnoZaporedje at 0x7f4dd9c4b290>"
      ]
     },
     "execution_count": 2,
     "metadata": {},
     "output_type": "execute_result"
    }
   ],
   "source": [
    "zap = AritmeticnoZaporedje()\n",
    "zap"
   ]
  },
  {
   "cell_type": "markdown",
   "id": "ef6d0674",
   "metadata": {},
   "source": [
    "Dobili smo prazen objekt razreda `AritmeticnoZaporedje`, vendar z njim težko naredimo kaj pametnega. Do atributov objektov dostopamo prek `ime_objekta.ime_atributa`, vendar trenutno zaporedjem nismo nastavili še nobenega atributa:"
   ]
  },
  {
   "cell_type": "code",
   "execution_count": 3,
   "id": "50a6d1ae",
   "metadata": {
    "tags": [
     "raises-exception"
    ]
   },
   "outputs": [
    {
     "ename": "AttributeError",
     "evalue": "'AritmeticnoZaporedje' object has no attribute 'zacetni_clen'",
     "output_type": "error",
     "traceback": [
      "\u001b[0;31m---------------------------------------------------------------------------\u001b[0m",
      "\u001b[0;31mAttributeError\u001b[0m                            Traceback (most recent call last)",
      "\u001b[0;32m<ipython-input-3-a47564ca2fa6>\u001b[0m in \u001b[0;36m<module>\u001b[0;34m\u001b[0m\n\u001b[0;32m----> 1\u001b[0;31m \u001b[0mzap\u001b[0m\u001b[0;34m.\u001b[0m\u001b[0mzacetni_clen\u001b[0m\u001b[0;34m\u001b[0m\u001b[0;34m\u001b[0m\u001b[0m\n\u001b[0m",
      "\u001b[0;31mAttributeError\u001b[0m: 'AritmeticnoZaporedje' object has no attribute 'zacetni_clen'"
     ]
    }
   ],
   "source": [
    "zap.zacetni_clen"
   ]
  },
  {
   "cell_type": "markdown",
   "id": "9dc3d075",
   "metadata": {},
   "source": [
    "Na podoben način lahko atribute tudi nastavljamo:"
   ]
  },
  {
   "cell_type": "code",
   "execution_count": 4,
   "id": "f73f8628",
   "metadata": {},
   "outputs": [],
   "source": [
    "zap.zacetni_clen = 2\n",
    "zap.razlika = 5"
   ]
  },
  {
   "cell_type": "code",
   "execution_count": 5,
   "id": "ae37f84f",
   "metadata": {},
   "outputs": [
    {
     "data": {
      "text/plain": [
       "42"
      ]
     },
     "execution_count": 5,
     "metadata": {},
     "output_type": "execute_result"
    }
   ],
   "source": [
    "zap.zacetni_clen + 8 * zap.razlika"
   ]
  },
  {
   "cell_type": "markdown",
   "id": "0f6bcf54",
   "metadata": {},
   "source": [
    "Definirajmo si tri metode: prva bo nastavila atributa, v katerih bosta shranjena začetni člen in razlika, drugi dve pa bosta izračunala člen na danem mestu ter vsoto do vključno tega člena."
   ]
  },
  {
   "cell_type": "code",
   "execution_count": 6,
   "id": "2267a5b1",
   "metadata": {},
   "outputs": [],
   "source": [
    "class AritmeticnoZaporedje:\n",
    "    def nastavi_atribute(self, zacetni_clen, razlika):\n",
    "        self.zacetni_clen = zacetni_clen\n",
    "        self.razlika = razlika\n",
    "\n",
    "    def clen(self, i):\n",
    "        return self.zacetni_clen + i * self.razlika\n",
    "\n",
    "    def vsota(self, i):\n",
    "        return (i + 1) * self.zacetni_clen + i * (i + 1) // 2 * self.razlika"
   ]
  },
  {
   "cell_type": "markdown",
   "id": "bf8b9c8a",
   "metadata": {},
   "source": [
    "Metode definiramo na enak način kot funkcije, le da na prvem mestu sprejmejo še dodatni argument, ki ga ponavadi imenujemo `self`, prek njega pa dostopamo do objekta, na katerem smo poklicali metodo."
   ]
  },
  {
   "cell_type": "code",
   "execution_count": 7,
   "id": "7e41f32c",
   "metadata": {},
   "outputs": [
    {
     "data": {
      "text/plain": [
       "2"
      ]
     },
     "execution_count": 7,
     "metadata": {},
     "output_type": "execute_result"
    }
   ],
   "source": [
    "zap = AritmeticnoZaporedje()\n",
    "zap.nastavi_atribute(2, 5)\n",
    "zap.clen(0)"
   ]
  },
  {
   "cell_type": "code",
   "execution_count": 8,
   "id": "e86f0820",
   "metadata": {},
   "outputs": [
    {
     "data": {
      "text/plain": [
       "87"
      ]
     },
     "execution_count": 8,
     "metadata": {},
     "output_type": "execute_result"
    }
   ],
   "source": [
    "zap.vsota(5)"
   ]
  },
  {
   "cell_type": "markdown",
   "id": "4d4476aa",
   "metadata": {},
   "source": [
    "Ker objekt brez nastavljenih atributov ni preveč koristen, si jih bomo želeli nastaviti na začetku, ko objekt ustvarimo. To storimo tako, da definiramo posebno _inicializacijsko_ metodo z imenom `__init__`, ki jo bo Python poklical takoj za tem, ko ustvari nov prazen objekt. Metodi `__init__` lahko podamo tudi argumente, ki jih podamo ob konstrukciji objekta. Zgornjo definicijo razreda bi tako bolje napisali kot:"
   ]
  },
  {
   "cell_type": "code",
   "execution_count": 9,
   "id": "89867ee2",
   "metadata": {},
   "outputs": [],
   "source": [
    "class AritmeticnoZaporedje:\n",
    "    def __init__(self, zacetni_clen, razlika):\n",
    "        self.zacetni_clen = zacetni_clen\n",
    "        self.razlika = razlika\n",
    "\n",
    "    def clen(self, i):\n",
    "        return self.zacetni_clen + i * self.razlika\n",
    "\n",
    "    def vsota(self, i):\n",
    "        return (i + 1) * self.zacetni_clen + i * (i + 1) // 2 * self.razlika"
   ]
  },
  {
   "cell_type": "code",
   "execution_count": 10,
   "id": "c5584c3b",
   "metadata": {},
   "outputs": [
    {
     "data": {
      "text/plain": [
       "42"
      ]
     },
     "execution_count": 10,
     "metadata": {},
     "output_type": "execute_result"
    }
   ],
   "source": [
    "zap = AritmeticnoZaporedje(2, 5)\n",
    "zap.clen(8)"
   ]
  },
  {
   "cell_type": "markdown",
   "id": "bdcec4ee",
   "metadata": {},
   "source": [
    "Seveda lahko ustvarimo tudi več objektov:"
   ]
  },
  {
   "cell_type": "code",
   "execution_count": 11,
   "id": "5f5a1797",
   "metadata": {},
   "outputs": [
    {
     "data": {
      "text/plain": [
       "10000"
      ]
     },
     "execution_count": 11,
     "metadata": {},
     "output_type": "execute_result"
    }
   ],
   "source": [
    "liha_stevila = AritmeticnoZaporedje(1, 2)\n",
    "liha_stevila.vsota(99)"
   ]
  },
  {
   "cell_type": "markdown",
   "id": "05d7443c",
   "metadata": {},
   "source": [
    "## Posebne metode\n",
    "\n",
    "Poleg metode `__init__` smo dogovorjeni še za nekaj posebnih metod, ki se pokličejo ob danih trenutkih. Na primer, trenuten izpis v konzoli je precej nekoristen."
   ]
  },
  {
   "cell_type": "code",
   "execution_count": 12,
   "id": "8bb8db5b",
   "metadata": {},
   "outputs": [
    {
     "data": {
      "text/plain": [
       "<__main__.AritmeticnoZaporedje at 0x7f4dd9388b50>"
      ]
     },
     "execution_count": 12,
     "metadata": {},
     "output_type": "execute_result"
    }
   ],
   "source": [
    "zap"
   ]
  },
  {
   "cell_type": "markdown",
   "id": "48982310",
   "metadata": {},
   "source": [
    "Izpis lahko popravimo z definicijo metode `__repr__`, ki vrne predstavitev objekta z nizem, Python pa jo pokliče, ko želi izpisati rezultat na konzolo. Podobna ji je metoda `__str__`, ki se pokliče takrat, ko objekt izpišemo. Namen prve je, da vrne izpis, koristen za nadaljnje delo v Pythonu, namen druge pa človeku prijazen izpis."
   ]
  },
  {
   "cell_type": "code",
   "execution_count": 13,
   "id": "32d45841",
   "metadata": {},
   "outputs": [],
   "source": [
    "class AritmeticnoZaporedje:\n",
    "    def __init__(self, zacetni_clen, razlika):\n",
    "        self.zacetni_clen = zacetni_clen\n",
    "        self.razlika = razlika\n",
    "\n",
    "    def __repr__(self):\n",
    "        return f\"AritmeticnoZaporedje({self.zacetni_clen}, {self.razlika})\"\n",
    "\n",
    "    def __str__(self):\n",
    "        return f\"{self.clen(0)}, {self.clen(1)}, {self.clen(2)}, ...\"\n",
    "\n",
    "    def clen(self, i):\n",
    "        return self.zacetni_clen + i * self.razlika\n",
    "\n",
    "    def vsota(self, i):\n",
    "        return (i + 1) * self.zacetni_clen + i * (i + 1) // 2 * self.razlika"
   ]
  },
  {
   "cell_type": "code",
   "execution_count": 14,
   "id": "61dc878a",
   "metadata": {},
   "outputs": [
    {
     "data": {
      "text/plain": [
       "AritmeticnoZaporedje(2, 5)"
      ]
     },
     "execution_count": 14,
     "metadata": {},
     "output_type": "execute_result"
    }
   ],
   "source": [
    "zap = AritmeticnoZaporedje(2, 5)\n",
    "zap"
   ]
  },
  {
   "cell_type": "code",
   "execution_count": 15,
   "id": "8f869267",
   "metadata": {},
   "outputs": [
    {
     "name": "stdout",
     "output_type": "stream",
     "text": [
      "2, 7, 12, ...\n"
     ]
    }
   ],
   "source": [
    "print(zap)"
   ]
  },
  {
   "cell_type": "markdown",
   "id": "1a161d10",
   "metadata": {},
   "source": [
    "Takih metod je še precej:\n",
    "\n",
    "- ko napišemo `x + y`, se na objektu `x` pokliče `x.__add__(y)`, podobno je z ostalimi aritmetičnimi operacijami `__sub__`, `__mul__`, ...\n",
    "- ko napišemo `x == y`, se na objektu `x` pokliče `x.__eq__(y)`,\n",
    "- ko napišemo `x in y`, se na objektu `y` pokliče `y.__contains__(x)`,\n",
    "- ko napišemo `x[i]`, se na objektu `x` pokliče b`x.__getitem__(i)` in tako naprej.\n",
    "\n",
    "Seznam vseh posebnih metod najdete v [uradni dokumentaciji](https://docs.python.org/3/reference/datamodel.html#special-method-names)."
   ]
  },
  {
   "cell_type": "code",
   "execution_count": 16,
   "id": "3a640015",
   "metadata": {},
   "outputs": [],
   "source": [
    "class AritmeticnoZaporedje:\n",
    "    def __init__(self, zacetni_clen, razlika):\n",
    "        self.zacetni_clen = zacetni_clen\n",
    "        self.razlika = razlika\n",
    "\n",
    "    def __repr__(self):\n",
    "        return f\"AritmeticnoZaporedje({self.zacetni_clen}, {self.razlika})\"\n",
    "\n",
    "    def __str__(self):\n",
    "        return f\"{self.clen(0)}, {self.clen(1)}, {self.clen(2)}, ...\"\n",
    "\n",
    "    def __getitem__(self, i):\n",
    "        return self.zacetni_clen + i * self.razlika\n",
    "\n",
    "    def __contains__(self, x):\n",
    "        return (x - self.zacetni_clen) % self.razlika == 0\n",
    "\n",
    "    def __add__(self, other):\n",
    "        zacetni_clen_vsote = self.zacetni_clen + other.zacetni_clen\n",
    "        razlika_vsote = self.razlika + other.razlika\n",
    "        return AritmeticnoZaporedje(zacetni_clen_vsote, razlika_vsote)\n",
    "\n",
    "    def __eq__(self, other):\n",
    "        return self.zacetni_clen == other.zacetni_clen and self.razlka == other.razlika\n",
    "\n",
    "    def vsota(self, i):\n",
    "        return (i + 1) * self.zacetni_clen + i * (i + 1) // 2 * self.razlika"
   ]
  },
  {
   "cell_type": "code",
   "execution_count": 17,
   "id": "a71d4dca",
   "metadata": {},
   "outputs": [
    {
     "data": {
      "text/plain": [
       "AritmeticnoZaporedje(9, 8)"
      ]
     },
     "execution_count": 17,
     "metadata": {},
     "output_type": "execute_result"
    }
   ],
   "source": [
    "zap1 = AritmeticnoZaporedje(2, 5)\n",
    "zap2 = AritmeticnoZaporedje(7, 3)\n",
    "zap1 + zap2"
   ]
  },
  {
   "cell_type": "code",
   "execution_count": 18,
   "id": "bee7fb8b",
   "metadata": {},
   "outputs": [
    {
     "data": {
      "text/plain": [
       "42"
      ]
     },
     "execution_count": 18,
     "metadata": {},
     "output_type": "execute_result"
    }
   ],
   "source": [
    "zap1[8]"
   ]
  },
  {
   "cell_type": "code",
   "execution_count": 19,
   "id": "46534ad6",
   "metadata": {},
   "outputs": [
    {
     "data": {
      "text/plain": [
       "False"
      ]
     },
     "execution_count": 19,
     "metadata": {},
     "output_type": "execute_result"
    }
   ],
   "source": [
    "42 in zap2"
   ]
  },
  {
   "cell_type": "code",
   "execution_count": 20,
   "id": "5e98cded",
   "metadata": {},
   "outputs": [
    {
     "data": {
      "text/plain": [
       "False"
      ]
     },
     "execution_count": 20,
     "metadata": {},
     "output_type": "execute_result"
    }
   ],
   "source": [
    "zap1 + zap2 == AritmeticnoZaporedje(1, 8)"
   ]
  },
  {
   "cell_type": "markdown",
   "id": "b4eef560",
   "metadata": {},
   "source": [
    "## Iteracija\n",
    "\n",
    "### Iteratorji\n",
    "\n",
    "V Pythonu se dostikrat sprehajamo čez znake v nizu, elemente seznama, števila v `range`, ... Vse dosežemo prek tako imenovanih _iteratorjev_. To so objekti, ki imajo posebno vgrajeno metodo `__next__`, ki ob vsakem klicu vrne naslednjo vrednost. Ko vrednosti zmanjka, metoda to sporoči tako, da sproži izjemo `StopIteration`. Za primer napišimo iterator, ki zaporedoma vrača znake niza:"
   ]
  },
  {
   "cell_type": "code",
   "execution_count": 21,
   "id": "e14cb3dd",
   "metadata": {},
   "outputs": [],
   "source": [
    "class IteratorCezNiz:\n",
    "    def __init__(self, niz):\n",
    "        self.niz = niz\n",
    "        self.indeks = 0\n",
    "\n",
    "    def __next__(self):\n",
    "        if self.indeks < len(self.niz):\n",
    "            znak = self.niz[self.indeks]\n",
    "            self.indeks += 1\n",
    "            return znak\n",
    "        else:\n",
    "            raise StopIteration"
   ]
  },
  {
   "cell_type": "code",
   "execution_count": 22,
   "id": "b374ebf1",
   "metadata": {},
   "outputs": [],
   "source": [
    "it = IteratorCezNiz('abc')"
   ]
  },
  {
   "cell_type": "markdown",
   "id": "31fdcc95",
   "metadata": {},
   "source": [
    "Metodo `__next__` bi lahko poklicali direktno, kot `it.__next__()`, vendar jo je lepše poklicati prek vgrajene funkcije `next` (ki ne naredi drugega, kot da na svojem argumentu pokliče `__next__`)."
   ]
  },
  {
   "cell_type": "code",
   "execution_count": 23,
   "id": "c86616ee",
   "metadata": {},
   "outputs": [
    {
     "data": {
      "text/plain": [
       "'a'"
      ]
     },
     "execution_count": 23,
     "metadata": {},
     "output_type": "execute_result"
    }
   ],
   "source": [
    "next(it)"
   ]
  },
  {
   "cell_type": "code",
   "execution_count": 24,
   "id": "8c9a94d2",
   "metadata": {},
   "outputs": [
    {
     "data": {
      "text/plain": [
       "'b'"
      ]
     },
     "execution_count": 24,
     "metadata": {},
     "output_type": "execute_result"
    }
   ],
   "source": [
    "next(it)"
   ]
  },
  {
   "cell_type": "code",
   "execution_count": 25,
   "id": "8e48abbd",
   "metadata": {},
   "outputs": [
    {
     "data": {
      "text/plain": [
       "'c'"
      ]
     },
     "execution_count": 25,
     "metadata": {},
     "output_type": "execute_result"
    }
   ],
   "source": [
    "next(it)"
   ]
  },
  {
   "cell_type": "code",
   "execution_count": 26,
   "id": "5f7d36b2",
   "metadata": {
    "tags": [
     "raises-exception"
    ]
   },
   "outputs": [
    {
     "ename": "StopIteration",
     "evalue": "",
     "output_type": "error",
     "traceback": [
      "\u001b[0;31m---------------------------------------------------------------------------\u001b[0m",
      "\u001b[0;31mStopIteration\u001b[0m                             Traceback (most recent call last)",
      "\u001b[0;32m<ipython-input-26-bc1ab118995a>\u001b[0m in \u001b[0;36m<module>\u001b[0;34m\u001b[0m\n\u001b[0;32m----> 1\u001b[0;31m \u001b[0mnext\u001b[0m\u001b[0;34m(\u001b[0m\u001b[0mit\u001b[0m\u001b[0;34m)\u001b[0m\u001b[0;34m\u001b[0m\u001b[0;34m\u001b[0m\u001b[0m\n\u001b[0m",
      "\u001b[0;32m<ipython-input-21-e36fd922a839>\u001b[0m in \u001b[0;36m__next__\u001b[0;34m(self)\u001b[0m\n\u001b[1;32m     10\u001b[0m             \u001b[0;32mreturn\u001b[0m \u001b[0mznak\u001b[0m\u001b[0;34m\u001b[0m\u001b[0;34m\u001b[0m\u001b[0m\n\u001b[1;32m     11\u001b[0m         \u001b[0;32melse\u001b[0m\u001b[0;34m:\u001b[0m\u001b[0;34m\u001b[0m\u001b[0;34m\u001b[0m\u001b[0m\n\u001b[0;32m---> 12\u001b[0;31m             \u001b[0;32mraise\u001b[0m \u001b[0mStopIteration\u001b[0m\u001b[0;34m\u001b[0m\u001b[0;34m\u001b[0m\u001b[0m\n\u001b[0m",
      "\u001b[0;31mStopIteration\u001b[0m: "
     ]
    }
   ],
   "source": [
    "next(it)"
   ]
  },
  {
   "cell_type": "markdown",
   "id": "b1b7b883",
   "metadata": {},
   "source": [
    "Če želimo, se lahko iteratorji tudi nikoli ne končajo, s čimer lahko predstavimo neskončne sezname, na primer vsa Fibonaccijeva števila."
   ]
  },
  {
   "cell_type": "code",
   "execution_count": 27,
   "id": "8cc7d799",
   "metadata": {},
   "outputs": [],
   "source": [
    "class IteratorFibonaccijevih:\n",
    "    def __init__(self):\n",
    "        self.a, self.b = 0, 1\n",
    "\n",
    "    def __next__(self):\n",
    "        prejsnji_a = self.a\n",
    "        self.a, self.b = self.b, self.a + self.b\n",
    "        return prejsnji_a"
   ]
  },
  {
   "cell_type": "code",
   "execution_count": 28,
   "id": "2601f999",
   "metadata": {},
   "outputs": [
    {
     "data": {
      "text/plain": [
       "[0, 1, 1, 2, 3, 5, 8, 13, 21, 34]"
      ]
     },
     "execution_count": 28,
     "metadata": {},
     "output_type": "execute_result"
    }
   ],
   "source": [
    "fib = IteratorFibonaccijevih()\n",
    "[next(fib) for _ in range(10)]"
   ]
  },
  {
   "cell_type": "markdown",
   "id": "23c33fb8",
   "metadata": {},
   "source": [
    "### Generatorji\n",
    "\n",
    "V Pythonu obstaja zelo enostaven način, na katerega pišemo iteratorje, in to so _generatorji_. Recimo, da bi želeli le izpisati vse znake v nizu. Tedaj bi lahko napisali funkcijo:"
   ]
  },
  {
   "cell_type": "code",
   "execution_count": 29,
   "id": "cb5b279e",
   "metadata": {},
   "outputs": [],
   "source": [
    "def znaki_niza(niz):\n",
    "    i = 0\n",
    "    while i < len(niz):\n",
    "        print(niz[i])\n",
    "        i += 1"
   ]
  },
  {
   "cell_type": "markdown",
   "id": "65d9d3e3",
   "metadata": {},
   "source": [
    "Pri funkciji nalašč nismo uporabili zanke `for`, saj bi bilo to goljufanje."
   ]
  },
  {
   "cell_type": "code",
   "execution_count": 30,
   "id": "68b9ffc9",
   "metadata": {},
   "outputs": [
    {
     "name": "stdout",
     "output_type": "stream",
     "text": [
      "a\n",
      "b\n",
      "c\n"
     ]
    }
   ],
   "source": [
    "znaki_niza(\"abc\")"
   ]
  },
  {
   "cell_type": "markdown",
   "id": "bff4eded",
   "metadata": {},
   "source": [
    "To je res izpisalo vse znake, vendar si z njimi ne moremo pomagati, saj so šli naravnost na konzolo. Če bi jih želeli vrniti, bi lahko napisali sledečo funkcijo, vendar bi ta ob prvem `return` prenehala z izvajanjem:"
   ]
  },
  {
   "cell_type": "code",
   "execution_count": 31,
   "id": "d1f0e6b2",
   "metadata": {},
   "outputs": [],
   "source": [
    "def znaki_niza(niz):\n",
    "    i = 0\n",
    "    while i < len(niz):\n",
    "        return niz[i]\n",
    "        i += 1"
   ]
  },
  {
   "cell_type": "code",
   "execution_count": 32,
   "id": "accb8cc4",
   "metadata": {},
   "outputs": [
    {
     "data": {
      "text/plain": [
       "'a'"
      ]
     },
     "execution_count": 32,
     "metadata": {},
     "output_type": "execute_result"
    }
   ],
   "source": [
    "znaki_niza(\"abc\")"
   ]
  },
  {
   "cell_type": "markdown",
   "id": "4c7f2a21",
   "metadata": {},
   "source": [
    "Tu v igro pridejo _generatorji_. Dobimo jih tako, da namesto `return` napišemo `yield`. Ko bo izvajanje klica prišlo do ukaza `yield`, se ne bo končalo, temveč le zaustavilo, ter se od tam nadaljevalo ob naslednjem klicu `next`."
   ]
  },
  {
   "cell_type": "code",
   "execution_count": 33,
   "id": "ec808cc9",
   "metadata": {},
   "outputs": [],
   "source": [
    "def znaki_niza(niz):\n",
    "    i = 0\n",
    "    while i < len(niz):\n",
    "        yield niz[i]\n",
    "        i += 1"
   ]
  },
  {
   "cell_type": "code",
   "execution_count": 34,
   "id": "fa7844d3",
   "metadata": {},
   "outputs": [],
   "source": [
    "gen = znaki_niza(\"abc\")"
   ]
  },
  {
   "cell_type": "code",
   "execution_count": 35,
   "id": "f6dce469",
   "metadata": {},
   "outputs": [
    {
     "data": {
      "text/plain": [
       "<generator object znaki_niza at 0x7f4dd93893d0>"
      ]
     },
     "execution_count": 35,
     "metadata": {},
     "output_type": "execute_result"
    }
   ],
   "source": [
    "gen"
   ]
  },
  {
   "cell_type": "code",
   "execution_count": 36,
   "id": "fb2cc54c",
   "metadata": {},
   "outputs": [
    {
     "data": {
      "text/plain": [
       "'a'"
      ]
     },
     "execution_count": 36,
     "metadata": {},
     "output_type": "execute_result"
    }
   ],
   "source": [
    "next(gen)"
   ]
  },
  {
   "cell_type": "code",
   "execution_count": 37,
   "id": "303289db",
   "metadata": {},
   "outputs": [
    {
     "data": {
      "text/plain": [
       "'b'"
      ]
     },
     "execution_count": 37,
     "metadata": {},
     "output_type": "execute_result"
    }
   ],
   "source": [
    "next(gen)"
   ]
  },
  {
   "cell_type": "code",
   "execution_count": 38,
   "id": "f6ab3635",
   "metadata": {},
   "outputs": [
    {
     "data": {
      "text/plain": [
       "'c'"
      ]
     },
     "execution_count": 38,
     "metadata": {},
     "output_type": "execute_result"
    }
   ],
   "source": [
    "next(gen)"
   ]
  },
  {
   "cell_type": "code",
   "execution_count": 39,
   "id": "cbdae597",
   "metadata": {
    "tags": [
     "raises-exception"
    ]
   },
   "outputs": [
    {
     "ename": "StopIteration",
     "evalue": "",
     "output_type": "error",
     "traceback": [
      "\u001b[0;31m---------------------------------------------------------------------------\u001b[0m",
      "\u001b[0;31mStopIteration\u001b[0m                             Traceback (most recent call last)",
      "\u001b[0;32m<ipython-input-39-6e72e47198db>\u001b[0m in \u001b[0;36m<module>\u001b[0;34m\u001b[0m\n\u001b[0;32m----> 1\u001b[0;31m \u001b[0mnext\u001b[0m\u001b[0;34m(\u001b[0m\u001b[0mgen\u001b[0m\u001b[0;34m)\u001b[0m\u001b[0;34m\u001b[0m\u001b[0;34m\u001b[0m\u001b[0m\n\u001b[0m",
      "\u001b[0;31mStopIteration\u001b[0m: "
     ]
    }
   ],
   "source": [
    "next(gen)"
   ]
  },
  {
   "cell_type": "markdown",
   "id": "f066d990",
   "metadata": {},
   "source": [
    "Tudi generator Fibonaccijevih števil lahko dobimo na podoben način:"
   ]
  },
  {
   "cell_type": "code",
   "execution_count": 40,
   "id": "e2b410f9",
   "metadata": {},
   "outputs": [],
   "source": [
    "def fibonaccijeva_stevila(a=0, b=1):\n",
    "    while True:\n",
    "        yield a\n",
    "        a, b = b, a + b"
   ]
  },
  {
   "cell_type": "code",
   "execution_count": 41,
   "id": "3fab4040",
   "metadata": {},
   "outputs": [
    {
     "data": {
      "text/plain": [
       "[0, 1, 1, 2, 3, 5, 8, 13, 21, 34]"
      ]
     },
     "execution_count": 41,
     "metadata": {},
     "output_type": "execute_result"
    }
   ],
   "source": [
    "f = fibonaccijeva_stevila()\n",
    "[next(f) for _ in range(10)]"
   ]
  },
  {
   "cell_type": "code",
   "execution_count": 42,
   "id": "1430cd61",
   "metadata": {},
   "outputs": [
    {
     "data": {
      "text/plain": [
       "[0, 10, 10, 20, 30, 50, 80, 130, 210, 340]"
      ]
     },
     "execution_count": 42,
     "metadata": {},
     "output_type": "execute_result"
    }
   ],
   "source": [
    "f = fibonaccijeva_stevila(0, 10)\n",
    "[next(f) for _ in range(10)]"
   ]
  },
  {
   "cell_type": "markdown",
   "id": "8c80827b",
   "metadata": {},
   "source": [
    "Pri poimenovanju je treba biti natančen: `fibonaccijeva_stevila` niso generator, temveč funkcija, ki ob vsakem klicu vrne generator, ki je posebna vrsta iteratorja."
   ]
  },
  {
   "cell_type": "code",
   "execution_count": 43,
   "id": "4e887928",
   "metadata": {},
   "outputs": [
    {
     "data": {
      "text/plain": [
       "<function __main__.fibonaccijeva_stevila(a=0, b=1)>"
      ]
     },
     "execution_count": 43,
     "metadata": {},
     "output_type": "execute_result"
    }
   ],
   "source": [
    "fibonaccijeva_stevila"
   ]
  },
  {
   "cell_type": "code",
   "execution_count": 44,
   "id": "316cc4de",
   "metadata": {},
   "outputs": [
    {
     "data": {
      "text/plain": [
       "<generator object fibonaccijeva_stevila at 0x7f4dd936fb50>"
      ]
     },
     "execution_count": 44,
     "metadata": {},
     "output_type": "execute_result"
    }
   ],
   "source": [
    "fibonaccijeva_stevila()"
   ]
  },
  {
   "cell_type": "markdown",
   "id": "a903e3bf",
   "metadata": {},
   "source": [
    "### Iterabilni objekti\n",
    "\n",
    "Objekti, po katerih se sprehajamo z zanko `for`, niso iteratorji. Na primer, nizi so sestavljeni natanko iz svojih znakov, zato si ne morejo \"zapomniti\", katere znake so že vrnili in katerih ne. Ampak, kot smo videli, iz njih lahko naredimo smiselne iteratorje. Takim objektom pravimo _iterabilni_. Natančneje zanka `for x in obj: ...` deluje na sledeči način:\n",
    "\n",
    "1. pokliči `iter(obj)`, da iz iterabilnega objekta `obj` dobiš iterator `it`\n",
    "2. pokliči `next(it)`, da dobiš naslednjo vrednost\n",
    "3. vrednost shrani v spremenljivko `x`\n",
    "4. izvedi ukaze `...`\n",
    "5. ponavljaj korake od 2 do 4, dokler korak 2 ne sproži izjeme `StopIteration`\n",
    "6. ko dobiš izjemo, končaj\n",
    "\n",
    "Če želimo na objektih svojega razreda podpreti zanko `for`, moramo definirati metodo `__iter__`, ki bo vrnila iskani iterator. Na primer, iterator po aritmetičnih zaporedjih bi lahko napisali kot:"
   ]
  },
  {
   "cell_type": "code",
   "execution_count": 45,
   "id": "a9f3dd16",
   "metadata": {},
   "outputs": [],
   "source": [
    "class AritmeticnoZaporedje:\n",
    "    def __init__(self, zacetni_clen, razlika):\n",
    "        self.zacetni_clen = zacetni_clen\n",
    "        self.razlika = razlika\n",
    "\n",
    "    def __iter__(self):\n",
    "        x = self.zacetni_clen\n",
    "        while True:\n",
    "            yield x\n",
    "            x += self.razlika"
   ]
  },
  {
   "cell_type": "code",
   "execution_count": 46,
   "id": "e98ddd7c",
   "metadata": {},
   "outputs": [],
   "source": [
    "zap = AritmeticnoZaporedje(2, 5)"
   ]
  },
  {
   "cell_type": "code",
   "execution_count": 47,
   "id": "be0d639d",
   "metadata": {},
   "outputs": [
    {
     "name": "stdout",
     "output_type": "stream",
     "text": [
      "2\n",
      "7\n",
      "12\n",
      "17\n",
      "22\n",
      "27\n",
      "32\n",
      "37\n",
      "42\n",
      "47\n",
      "52\n",
      "57\n",
      "62\n",
      "67\n",
      "72\n",
      "77\n",
      "82\n",
      "87\n",
      "92\n",
      "97\n",
      "102\n"
     ]
    }
   ],
   "source": [
    "for x in zap:\n",
    "    print(x)\n",
    "    if x > 100:\n",
    "        break"
   ]
  }
 ],
 "metadata": {
  "jupytext": {
   "cell_metadata_filter": "-all",
   "formats": "md:myst",
   "text_representation": {
    "extension": ".md",
    "format_name": "myst",
    "format_version": 0.13,
    "jupytext_version": "1.10.1"
   }
  },
  "kernelspec": {
   "display_name": "Python 3",
   "language": "python",
   "name": "python3"
  },
  "language_info": {
   "codemirror_mode": {
    "name": "ipython",
    "version": 3
   },
   "file_extension": ".py",
   "mimetype": "text/x-python",
   "name": "python",
   "nbconvert_exporter": "python",
   "pygments_lexer": "ipython3",
   "version": "3.7.10"
  },
  "source_map": [
   14,
   24,
   27,
   31,
   34,
   38,
   42,
   46,
   51,
   53,
   57,
   68,
   72,
   78,
   80,
   84,
   97,
   100,
   104,
   107,
   113,
   115,
   119,
   138,
   143,
   145,
   156,
   186,
   192,
   196,
   200,
   202,
   210,
   225,
   227,
   231,
   235,
   239,
   243,
   246,
   250,
   261,
   264,
   270,
   276,
   280,
   282,
   286,
   294,
   296,
   300,
   308,
   312,
   316,
   320,
   324,
   328,
   331,
   335,
   342,
   347,
   350,
   354,
   358,
   360,
   375,
   388,
   392
  ]
 },
 "nbformat": 4,
 "nbformat_minor": 5
}