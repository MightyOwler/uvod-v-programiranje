{
 "cells": [
  {
   "cell_type": "markdown",
   "id": "898011ec",
   "metadata": {},
   "source": [
    "# Datoteke\n",
    "\n",
    "## Branje datotek\n",
    "\n",
    "Recimo, da imamo datoteko `stavki.txt` s sledečo vsebino:\n",
    "\n",
    "```\n",
    "To je prvi stavek. To je drugi\n",
    "stavek. To je tretji stavek. To\n",
    "je četrti stavek.\n",
    "```\n",
    "\n",
    "Če vsebino želimo prebrati, moramo datoteko najprej odpreti. To storimo s funkcijo `open`. Klicu `open` lahko podamo tudi neobvezni argument `encoding`, ki poda kodno tabelo, v kateri je napisana datoteka. Težava je, da je privzeta vrednost parametra na Windowsih `cp1250`, kar je precej zastarel standard, zato morate tam pisati `open(..., encoding='UTF-8')`."
   ]
  },
  {
   "cell_type": "code",
   "execution_count": 1,
   "id": "9fd82077",
   "metadata": {},
   "outputs": [
    {
     "data": {
      "text/plain": [
       "<_io.TextIOWrapper name='stavki.txt' mode='r' encoding='UTF-8'>"
      ]
     },
     "execution_count": 1,
     "metadata": {},
     "output_type": "execute_result"
    }
   ],
   "source": [
    "dat = open('stavki.txt', encoding='UTF-8')\n",
    "dat"
   ]
  },
  {
   "cell_type": "markdown",
   "id": "81b7ecd4",
   "metadata": {},
   "source": [
    "Dobili smo objekt `dat`, ki predstavlja dostop do vsebine datoteke. Najosnovnejša metoda je `read`, ki ob vsakem klicu prebere dano število znakov."
   ]
  },
  {
   "cell_type": "code",
   "execution_count": 2,
   "id": "005852be",
   "metadata": {},
   "outputs": [
    {
     "data": {
      "text/plain": [
       "'To je prvi stavek. To je drugi\\nstav'"
      ]
     },
     "execution_count": 2,
     "metadata": {},
     "output_type": "execute_result"
    }
   ],
   "source": [
    "dat.read(35)"
   ]
  },
  {
   "cell_type": "code",
   "execution_count": 3,
   "id": "2519fd34",
   "metadata": {},
   "outputs": [
    {
     "data": {
      "text/plain": [
       "'ek. To je tretji sta'"
      ]
     },
     "execution_count": 3,
     "metadata": {},
     "output_type": "execute_result"
    }
   ],
   "source": [
    "dat.read(20)"
   ]
  },
  {
   "cell_type": "markdown",
   "id": "79c08172",
   "metadata": {},
   "source": [
    "Če števila ne podamo, datoteko preberemo do konca:"
   ]
  },
  {
   "cell_type": "code",
   "execution_count": 4,
   "id": "54a89872",
   "metadata": {},
   "outputs": [
    {
     "data": {
      "text/plain": [
       "'vek. To\\nje četrti stavek.\\n'"
      ]
     },
     "execution_count": 4,
     "metadata": {},
     "output_type": "execute_result"
    }
   ],
   "source": [
    "dat.read()"
   ]
  },
  {
   "cell_type": "code",
   "execution_count": 5,
   "id": "dc3f1582",
   "metadata": {},
   "outputs": [
    {
     "data": {
      "text/plain": [
       "''"
      ]
     },
     "execution_count": 5,
     "metadata": {},
     "output_type": "execute_result"
    }
   ],
   "source": [
    "dat.read()"
   ]
  },
  {
   "cell_type": "markdown",
   "id": "3e87e0dd",
   "metadata": {},
   "source": [
    "Datoteko je treba po koncu uporabe treba zapreti, da lahko do nje dostopajo tudi drugi programi. Se vam je kdaj zgodilo, da USB ključka niste mogli varno odstraniti, ker naj bi ga uporabljal še nek program? Težava je bila, da slabo napisan program ni zaprli dostopa do datotek, zato je operacijski sistem mislil, da jih še vedno uporablja. Datotetko lahko zapremo z metodo `close`."
   ]
  },
  {
   "cell_type": "code",
   "execution_count": 6,
   "id": "d31e26c9",
   "metadata": {},
   "outputs": [],
   "source": [
    "dat.close()"
   ]
  },
  {
   "cell_type": "markdown",
   "id": "08e0ebfd",
   "metadata": {},
   "source": [
    "Da ne pozabimo zapreti datoteke, ali pa da nam zapiranja ne prepreči napaka v programu, Python ponuja varnejši način odpiranja datotek. Če napišemo\n",
    "\n",
    "```python\n",
    "with open('stavki.txt') as dat:\n",
    "    ...\n",
    "```\n",
    "\n",
    "bo Python samodejno poskrbel za zapiranje datoteke, ko se bodo izvedli vsi stavki `...`. To bo veljalo tudi v primeru, če kakšen izmed stavkov sproži izjemo in prekine izvajanje.\n",
    " \n",
    "Za branje po vrsticah lahko uporabimo metodi `readline` in `readlines`:"
   ]
  },
  {
   "cell_type": "code",
   "execution_count": 7,
   "id": "e957560f",
   "metadata": {},
   "outputs": [],
   "source": [
    "with open('stavki.txt') as dat:\n",
    "    prva = dat.readline()\n",
    "    druga = dat.readline()\n",
    "    ostale = dat.readlines()"
   ]
  },
  {
   "cell_type": "code",
   "execution_count": 8,
   "id": "9bedb586",
   "metadata": {},
   "outputs": [
    {
     "data": {
      "text/plain": [
       "'To je prvi stavek. To je drugi\\n'"
      ]
     },
     "execution_count": 8,
     "metadata": {},
     "output_type": "execute_result"
    }
   ],
   "source": [
    "prva"
   ]
  },
  {
   "cell_type": "code",
   "execution_count": 9,
   "id": "f79c79a5",
   "metadata": {},
   "outputs": [
    {
     "data": {
      "text/plain": [
       "'stavek. To je tretji stavek. To\\n'"
      ]
     },
     "execution_count": 9,
     "metadata": {},
     "output_type": "execute_result"
    }
   ],
   "source": [
    "druga"
   ]
  },
  {
   "cell_type": "code",
   "execution_count": 10,
   "id": "e3b739cf",
   "metadata": {},
   "outputs": [
    {
     "data": {
      "text/plain": [
       "['je četrti stavek.\\n']"
      ]
     },
     "execution_count": 10,
     "metadata": {},
     "output_type": "execute_result"
    }
   ],
   "source": [
    "ostale"
   ]
  },
  {
   "cell_type": "markdown",
   "id": "0d2c4f0c",
   "metadata": {},
   "source": [
    "Po vrsticah se lahko zapeljemo z zanko `for`:"
   ]
  },
  {
   "cell_type": "code",
   "execution_count": 11,
   "id": "145cc59b",
   "metadata": {},
   "outputs": [
    {
     "name": "stdout",
     "output_type": "stream",
     "text": [
      "31 To je prvi stavek. To je drugi\n",
      "\n",
      "32 stavek. To je tretji stavek. To\n",
      "\n",
      "18 je četrti stavek.\n",
      "\n"
     ]
    }
   ],
   "source": [
    "with open('stavki.txt') as dat:\n",
    "    for vrstica in dat:\n",
    "        print(len(vrstica), vrstica)"
   ]
  },
  {
   "cell_type": "markdown",
   "id": "7f77b5bb",
   "metadata": {},
   "source": [
    "Vidimo, da so med izpisanimi vrsticami tudi prazne. Te so posledice tega, da vsaka vrstica datoteke na koncu vsebuje znak za novo vrstico, en tak znak pa doda še `print`."
   ]
  },
  {
   "cell_type": "code",
   "execution_count": 12,
   "id": "3026901d",
   "metadata": {},
   "outputs": [],
   "source": [
    "def izpisi_datoteko(ime_datoteke):\n",
    "    print(ime_datoteke)\n",
    "    with open(ime_datoteke) as dat:\n",
    "        for st_vrstice, vrstica in enumerate(dat, 1):\n",
    "            print(st_vrstice, vrstica, end='')"
   ]
  },
  {
   "cell_type": "code",
   "execution_count": 13,
   "id": "50e8ac0c",
   "metadata": {},
   "outputs": [
    {
     "name": "stdout",
     "output_type": "stream",
     "text": [
      "stavki.txt\n",
      "1 To je prvi stavek. To je drugi\n",
      "2 stavek. To je tretji stavek. To\n",
      "3 je četrti stavek.\n"
     ]
    }
   ],
   "source": [
    "izpisi_datoteko('stavki.txt')"
   ]
  },
  {
   "cell_type": "markdown",
   "id": "4670b1e1",
   "metadata": {},
   "source": [
    "## Pisanje datotek\n",
    "\n",
    "Datoteke lahko tudi pišemo, vendar jih moramo ustrezno odpreti, kar naredimo kot:\n",
    "Na Windowsih, kjer je treba podat\n",
    "\n",
    "```python\n",
    "with open(..., 'w') as d:\n",
    "    ...\n",
    "```\n",
    "\n",
    "oziroma\n",
    "\n",
    "\n",
    "```python\n",
    "with open(..., 'w', encoding='UTF-8') as d:\n",
    "    ...\n",
    "```\n",
    "\n",
    "Ko datoteko odpremo za pisanje, lahko vanjo pišemo z metodo `write`"
   ]
  },
  {
   "cell_type": "code",
   "execution_count": 14,
   "id": "aeaa54f0",
   "metadata": {},
   "outputs": [],
   "source": [
    "with open('izpis.txt', 'w') as dat:\n",
    "    dat.write('To je ')\n",
    "    dat.write('en stavek.\\nTo je drugi.')"
   ]
  },
  {
   "cell_type": "code",
   "execution_count": 15,
   "id": "a9850c61",
   "metadata": {},
   "outputs": [
    {
     "name": "stdout",
     "output_type": "stream",
     "text": [
      "izpis.txt\n",
      "1 To je en stavek.\n",
      "2 To je drugi."
     ]
    }
   ],
   "source": [
    "izpisi_datoteko('izpis.txt')"
   ]
  },
  {
   "cell_type": "markdown",
   "id": "0264a794",
   "metadata": {},
   "source": [
    "V datoteko pišemo tudi s `print`, ki mu podamo neobvezni argument `file`:"
   ]
  },
  {
   "cell_type": "code",
   "execution_count": 16,
   "id": "64703ee4",
   "metadata": {},
   "outputs": [],
   "source": [
    "with open('izpis.txt', 'w') as dat:\n",
    "    print('To je en stavek.', file=dat)\n",
    "    print('1 + 1 =', 1 + 1, file=dat)"
   ]
  },
  {
   "cell_type": "code",
   "execution_count": 17,
   "id": "c5e92f1d",
   "metadata": {},
   "outputs": [
    {
     "name": "stdout",
     "output_type": "stream",
     "text": [
      "izpis.txt\n",
      "1 To je en stavek.\n",
      "2 1 + 1 = 2\n"
     ]
    }
   ],
   "source": [
    "izpisi_datoteko('izpis.txt')"
   ]
  },
  {
   "cell_type": "markdown",
   "id": "4314fde6",
   "metadata": {},
   "source": [
    "Vsakič, ko datoteko odpremo za pisanje, povozimo obstoječo vsebino:"
   ]
  },
  {
   "cell_type": "code",
   "execution_count": 18,
   "id": "aec57627",
   "metadata": {},
   "outputs": [],
   "source": [
    "with open('izpis.txt', 'w') as dat:\n",
    "    print('To je en stavek.', file=dat)\n",
    "    print('To je drugi.', file=dat)"
   ]
  },
  {
   "cell_type": "code",
   "execution_count": 19,
   "id": "1cedf11f",
   "metadata": {},
   "outputs": [],
   "source": [
    "with open('izpis.txt', 'w') as dat:\n",
    "    print('To je tretji stavek.', file=dat)\n",
    "    print('To je četrti.', file=dat)"
   ]
  },
  {
   "cell_type": "code",
   "execution_count": 20,
   "id": "152071fd",
   "metadata": {},
   "outputs": [
    {
     "name": "stdout",
     "output_type": "stream",
     "text": [
      "izpis.txt\n",
      "1 To je tretji stavek.\n",
      "2 To je četrti.\n"
     ]
    }
   ],
   "source": [
    "izpisi_datoteko('izpis.txt')"
   ]
  },
  {
   "cell_type": "markdown",
   "id": "84f74fa0",
   "metadata": {},
   "source": [
    "Če želimo, lahko namesto `w` podamo parameter `a`, ki datoteko odpremo za dodajanje:"
   ]
  },
  {
   "cell_type": "code",
   "execution_count": 21,
   "id": "f5a5ddba",
   "metadata": {},
   "outputs": [],
   "source": [
    "with open('izpis.txt', 'w') as d:\n",
    "    print('To je en stavek.', file=d)\n",
    "    print('To je drugi.', file=d)"
   ]
  },
  {
   "cell_type": "code",
   "execution_count": 22,
   "id": "be36fac5",
   "metadata": {},
   "outputs": [],
   "source": [
    "with open('izpis.txt', 'a') as d:\n",
    "    print('To je tretji stavek.', file=d)\n",
    "    print('To je četrti.', file=d)"
   ]
  },
  {
   "cell_type": "code",
   "execution_count": 23,
   "id": "e292ab66",
   "metadata": {},
   "outputs": [
    {
     "name": "stdout",
     "output_type": "stream",
     "text": [
      "izpis.txt\n",
      "1 To je en stavek.\n",
      "2 To je drugi.\n",
      "3 To je tretji stavek.\n",
      "4 To je četrti.\n"
     ]
    }
   ],
   "source": [
    "izpisi_datoteko('izpis.txt')"
   ]
  },
  {
   "cell_type": "markdown",
   "id": "d2944f8d",
   "metadata": {},
   "source": [
    "## Delo z datotečnim sistemom\n",
    "\n",
    "\n",
    "Tako, kot si daljše programe shranjujemo v datoteke, si tudi večje količine podatkov shranimo v datoteke. Poglejmo si najprej, kako so datoteke na računalniku sploh organizirane. Vsak nosilec podatkov (trdi disk, SSD, DVD, USB ključek) ima podatke zapisane v določenem datotečnem sistemu, ki je odvisen od vrste nosilca in operacijskega sistema. Na primer, trdi diski pod Windowsi so običajno formatirani v sistemu NTFS, pod Linuxom v sistemu Ext, na Macintoshu pa v sistemu HFS. USB ključki so zaradi lažje prenosljivosti ponavadi vsi formatirani v sistemu FAT (ki se je včasih uporabljal pod Windowsi). Če želimo, lahko na nosilcu naredimo več particij in vsako od njih ločeno formatiramo s svojim datotečnim sistemom.\n",
    "\n",
    "Datotečni sistem določa, v kakšni obliki je na nosilcu shranjena vsebina datotek in v kakšni obliki je predstavljena uporabniku. S prvim se ne bomo ukvarjali, pri drugem pa je pomembna le razlika med operacijskim sistemom Windows in sistemi, osnovanimi na UNIXu (torej Linux ali OS X).\n",
    "\n",
    "Datotečni sistem vsebuje datoteke, razporejene po mapah (oz. direktorijih), ki so lahko tudi gnezdene. Na vrhu imamo korensko mapo, ki jo v operacijskih sistemih, osnovanih na UNIXu, označujemo z `/`, na operacijskem sistemu Windows pa z `C:\\`, kjer je `C` ime particije: `C` običajno označuje glavni pogon, `D` drugi pogon ali CD/DVD/BlueRay enoto, `A` in `B` sta se uporabljali za diskete, kasnejše črke pa se uporabljajo za USB ključke in podobno.\n",
    "\n",
    "Za primer vzemimo datotečni sistem s sledečimi mapami in datotekami:"
   ]
  },
  {
   "cell_type": "markdown",
   "id": "64489d9e",
   "metadata": {},
   "source": [
    "```\n",
    "/\n",
    "    uvp\n",
    "        datoteke\n",
    "            vhodna.txt\n",
    "            izhodna.txt\n",
    "        funkcije.py\n",
    "        seznami.py\n",
    "        slovarji.py\n",
    "        zanke.py\n",
    "    praktikum\n",
    "        latex\n",
    "            pismo.tex\n",
    "            pismo.pdf\n",
    "            pismo.aux\n",
    "        mathematica\n",
    "            grafi.nb\n",
    "            kolokvij.nb\n",
    "    analiza\n",
    "        plonkec.tex\n",
    "```"
   ]
  },
  {
   "cell_type": "markdown",
   "id": "7e7e2e6d",
   "metadata": {},
   "source": [
    "Vsaka datoteka ima absolutno pot, na kateri jo lahko najdemo. Na primer absolutna pot datoteke `pismo.tex` je `/praktikum/latex/pismo.tex` oz. `C:\\praktikum\\latex\\pismo.tex` na Windowsih. Do datotek kaže tudi relativna pot. Na primer, glede na imenik `praktikum` je pot do `pismo.tex` kar `latex/pismo.tex`. Če želimo, gremo z `..` tudi ven iz trenutnega imenika. Na primer, glede na imenik `mathematica` je relativna pot do `vhodna.txt` enaka `../../uvp/datoteke/vhodna.txt`."
   ]
  },
  {
   "cell_type": "markdown",
   "id": "77af1dc4",
   "metadata": {},
   "source": [
    "Za delo z datotečnim sistemom je na voljo knjižnica `os`:"
   ]
  },
  {
   "cell_type": "code",
   "execution_count": 24,
   "id": "f681f1df",
   "metadata": {},
   "outputs": [],
   "source": [
    "import os"
   ]
  },
  {
   "cell_type": "markdown",
   "id": "5e11807b",
   "metadata": {},
   "source": [
    "Trenutni imenik dobimo z `os.getcwd`:"
   ]
  },
  {
   "cell_type": "code",
   "execution_count": 25,
   "id": "44a9ccfb",
   "metadata": {},
   "outputs": [
    {
     "data": {
      "text/plain": [
       "'/home/runner/work/uvod-v-programiranje/uvod-v-programiranje/zapiski'"
      ]
     },
     "execution_count": 25,
     "metadata": {},
     "output_type": "execute_result"
    }
   ],
   "source": [
    "os.getcwd()"
   ]
  },
  {
   "cell_type": "markdown",
   "id": "f6b33949",
   "metadata": {},
   "source": [
    "zamenjamo pa ga z `os.chdir`, ki sprejme absolutno ali relativno pot:"
   ]
  },
  {
   "cell_type": "code",
   "execution_count": 26,
   "id": "2850f46d",
   "metadata": {},
   "outputs": [
    {
     "data": {
      "text/plain": [
       "'/home/runner/work/uvod-v-programiranje/uvod-v-programiranje'"
      ]
     },
     "execution_count": 26,
     "metadata": {},
     "output_type": "execute_result"
    }
   ],
   "source": [
    "os.chdir('..')\n",
    "os.getcwd()"
   ]
  },
  {
   "cell_type": "code",
   "execution_count": 27,
   "id": "1d183df8",
   "metadata": {},
   "outputs": [
    {
     "data": {
      "text/plain": [
       "'/home/runner/work/uvod-v-programiranje/uvod-v-programiranje/zapiski'"
      ]
     },
     "execution_count": 27,
     "metadata": {},
     "output_type": "execute_result"
    }
   ],
   "source": [
    "os.chdir('zapiski')\n",
    "os.getcwd()"
   ]
  },
  {
   "cell_type": "markdown",
   "id": "424ff24e",
   "metadata": {},
   "source": [
    "Imena vseh datotek v danem imeniku dobimo z `os.listdir`:"
   ]
  },
  {
   "cell_type": "code",
   "execution_count": 28,
   "id": "1b1160f6",
   "metadata": {},
   "outputs": [
    {
     "data": {
      "text/plain": [
       "['_toc.yml',\n",
       " '00-uvod.md',\n",
       " 'izpis.txt',\n",
       " '09-tekstovni-vmesnik.md',\n",
       " '04-zanke.md',\n",
       " '06-slovarji-in-mnozice.md',\n",
       " '02-rekurzija.md',\n",
       " '08-datoteke.md',\n",
       " 'slike',\n",
       " '07-razredi.md',\n",
       " '11-spletni-vmesnik.md',\n",
       " '05-seznami-in-nabori.md',\n",
       " '_config.yml',\n",
       " 'stavki.txt',\n",
       " '_build',\n",
       " '01-uvod-v-python.md',\n",
       " '10-nadzor-razlicic.md',\n",
       " '03-nizi.md']"
      ]
     },
     "execution_count": 28,
     "metadata": {},
     "output_type": "execute_result"
    }
   ],
   "source": [
    "os.listdir()"
   ]
  },
  {
   "cell_type": "code",
   "execution_count": 29,
   "id": "06188fff",
   "metadata": {},
   "outputs": [
    {
     "data": {
      "text/plain": [
       "['readme-md.png', 'skica-modela.png', 'avtoceste.png', 'skica-vmesnika.png']"
      ]
     },
     "execution_count": 29,
     "metadata": {},
     "output_type": "execute_result"
    }
   ],
   "source": [
    "os.listdir('slike')"
   ]
  },
  {
   "cell_type": "markdown",
   "id": "40be3aad",
   "metadata": {},
   "source": [
    "Vse funkcije za delo z datotekami lahko najdete v [uradni dokumentaciji], ostale pogosto uporabljene pa so:\n",
    "\n",
    "- `os.mkdir(pot)`, ki naredi imenik z dano potjo.\n",
    "- `os.makedirs(pot, exist_ok=False)`, ki naredi imenik z dano potjo in vse vmesne imenike. Če je argument `exist_ok` nastavljen na `True`, ne javi napake, če ciljna mapa že obstaja.\n",
    "- `os.rename(stara_pot, nova_pot)` datoteko ali imenik s potjo `stara_pot` preimenuje v `nova_pot`.\n",
    "- `os.remove(pot)` pobriše datoteko z dano potjo.\n",
    "- `os.rmdir(pot)` pobriše imenik z dano potjo.\n",
    "- `os.removedirs(pot)` pobriše imenik z dano potjo in vse vmesne imenike."
   ]
  },
  {
   "cell_type": "markdown",
   "id": "fef2c384",
   "metadata": {},
   "source": [
    "Poleg knjižnice `os` je na voljo tudi knjižnica `os.path` za delo z datotečnimi potmi:"
   ]
  },
  {
   "cell_type": "markdown",
   "id": "319bf3a7",
   "metadata": {},
   "source": [
    "- `os.path.join(pot1, pot2)` stakni poti `pot1` in `pot2`, pri čemer ustrezno poskrbi za prava ločila glede na operacijski sistem.\n",
    "- `os.path.isdir(pot)` vrne `True`, kadar `pot` vodi do imenika.\n",
    "- `os.path.exists(pot)` vrne `True`, kadar `pot` obstaja v datotečnem sistemu.\n",
    "- `os.path.splitext(pot)` loči pot datoteke na del pred končnico in del za njo:"
   ]
  },
  {
   "cell_type": "code",
   "execution_count": 30,
   "id": "0c1afd76",
   "metadata": {},
   "outputs": [
    {
     "data": {
      "text/plain": [
       "('/imenik/podimenik/test', '.txt')"
      ]
     },
     "execution_count": 30,
     "metadata": {},
     "output_type": "execute_result"
    }
   ],
   "source": [
    "os.path.splitext('/imenik/podimenik/test.txt')"
   ]
  },
  {
   "cell_type": "markdown",
   "id": "72d64acd",
   "metadata": {},
   "source": [
    "- `os.path.split(pot)` loči na pot do zadnje imenika in na ime datoteke.  Do prve komponente lahko dostopamo tudi z `os.path.dirname(pot)`, do druge pa z metodo `os.path.basename(pot)`."
   ]
  },
  {
   "cell_type": "code",
   "execution_count": 31,
   "id": "fbeae0ea",
   "metadata": {},
   "outputs": [
    {
     "data": {
      "text/plain": [
       "('/imenik/podimenik', 'test.txt')"
      ]
     },
     "execution_count": 31,
     "metadata": {},
     "output_type": "execute_result"
    }
   ],
   "source": [
    "os.path.split('/imenik/podimenik/test.txt')"
   ]
  },
  {
   "cell_type": "code",
   "execution_count": 32,
   "id": "8c94dc76",
   "metadata": {},
   "outputs": [
    {
     "data": {
      "text/plain": [
       "'/imenik/podimenik'"
      ]
     },
     "execution_count": 32,
     "metadata": {},
     "output_type": "execute_result"
    }
   ],
   "source": [
    "os.path.dirname('/imenik/podimenik/test.txt')"
   ]
  },
  {
   "cell_type": "code",
   "execution_count": 33,
   "id": "470a9233",
   "metadata": {},
   "outputs": [
    {
     "data": {
      "text/plain": [
       "'test.txt'"
      ]
     },
     "execution_count": 33,
     "metadata": {},
     "output_type": "execute_result"
    }
   ],
   "source": [
    "os.path.basename('/imenik/podimenik/test.txt')"
   ]
  },
  {
   "cell_type": "markdown",
   "id": "9e54fd39",
   "metadata": {},
   "source": [
    "- `os.path.abspath(pot)` dano pot pretvori v absolutno:"
   ]
  },
  {
   "cell_type": "code",
   "execution_count": 34,
   "id": "89379a5d",
   "metadata": {},
   "outputs": [
    {
     "data": {
      "text/plain": [
       "'/home/runner/work/uvod-v-programiranje/uvod-v-programiranje/02-rekurzija'"
      ]
     },
     "execution_count": 34,
     "metadata": {},
     "output_type": "execute_result"
    }
   ],
   "source": [
    "os.path.abspath('../02-rekurzija/')"
   ]
  },
  {
   "cell_type": "markdown",
   "id": "d8ba9f12",
   "metadata": {},
   "source": [
    "## JSON datoteke\n",
    "\n",
    "Za zapis strukturiranih podatkov je uveljavljen standard [JSON](https://www.json.org/json-sl.html), ki ga podpirajo skoraj vsa orodja za delo s podatki. Vrednosti v njem so lahko:\n",
    "- števila,\n",
    "- logični vrednosti `true` in `false` (pozorni bodite na malo začetnico),\n",
    "- nizi (ki jih obvezno pišemo med narekovaje `\"`),\n",
    "- ničelna vrednost `null` (ki igra enako vlogo kot `None`),\n",
    "- seznami (ki jih pišemo enako kot v Pythonu) ter\n",
    "- objekti (ki so podobno kot slovarji v Pythonu, le da so ključi lahko le nizi).\n",
    "\n",
    "Na primer:\n",
    "\n",
    "```json\n",
    "{\n",
    "  \"ime\": \"Anka Cvetnik\",\n",
    "  \"vpisnaStevilka\": 27123456,\n",
    "  \"visina\": 167.8,\n",
    "  \"prijatelji\": [27154321, 27165432],\n",
    "  \"predmetnik\": [\n",
    "    {\"predmet\": \"Analiza 1\", \"ocena\": 10},\n",
    "    {\"predmet\": \"Algebra 1\", \"ocena\": 10},\n",
    "    {\n",
    "      \"predmet\": \"Uvod v programiranje\",\n",
    "      \"ocena\": null\n",
    "    }\n",
    "  ]\n",
    "}\n",
    "```\n",
    "\n",
    "V Pythonu je delu z JSONom namenjena knjižnica `json`. Najenostavnejša funkcija v njej je `loads`, ki prebere niz z JSONom in vrne ustrezno Pythonovo vrednost:"
   ]
  },
  {
   "cell_type": "code",
   "execution_count": 35,
   "id": "dc2ebc46",
   "metadata": {},
   "outputs": [
    {
     "data": {
      "text/plain": [
       "[1, {'3': True, '4': None}]"
      ]
     },
     "execution_count": 35,
     "metadata": {},
     "output_type": "execute_result"
    }
   ],
   "source": [
    "import json\n",
    "json.loads('[1, {\"3\": true, \"4\": null}]')"
   ]
  },
  {
   "cell_type": "markdown",
   "id": "8a3003db",
   "metadata": {},
   "source": [
    "V obratno smer deluje funkcija `json.dumps`, ki Pythonovo vrednost pretvori v JSON:"
   ]
  },
  {
   "cell_type": "code",
   "execution_count": 36,
   "id": "7182d711",
   "metadata": {},
   "outputs": [
    {
     "data": {
      "text/plain": [
       "'[1, {\"3\": true, \"4\": null}]'"
      ]
     },
     "execution_count": 36,
     "metadata": {},
     "output_type": "execute_result"
    }
   ],
   "source": [
    ">>> json.dumps([1, {3: True, 4: None}])\n",
    "'[1, {\"3\": true, \"4\": null}]'"
   ]
  },
  {
   "cell_type": "markdown",
   "id": "b683b93e",
   "metadata": {},
   "source": [
    "Vidimo, da je funkcija ključe slovarjev tudi ustrezno spremenila v nize.\n",
    "\n",
    "Če želimo delati z JSON datotekami, imamo na voljo funkcijo `dump`, ki poleg vrednosti sprejme datoteko, v katero naj zapiše JSON vrednost."
   ]
  },
  {
   "cell_type": "code",
   "execution_count": 37,
   "id": "237ee5b7",
   "metadata": {},
   "outputs": [],
   "source": [
    "with open('primer.json', 'w') as dat:\n",
    "    json.dump([1, {3: True, 4: None}], dat)"
   ]
  },
  {
   "cell_type": "code",
   "execution_count": 38,
   "id": "2486c1c8",
   "metadata": {},
   "outputs": [
    {
     "name": "stdout",
     "output_type": "stream",
     "text": [
      "primer.json\n",
      "1 [1, {\"3\": true, \"4\": null}]"
     ]
    }
   ],
   "source": [
    "izpisi_datoteko('primer.json')"
   ]
  },
  {
   "cell_type": "markdown",
   "id": "d5fe9cbd",
   "metadata": {},
   "source": [
    "Če želimo, lahko datoteko tudi lepo oblikujemo z zamiki:"
   ]
  },
  {
   "cell_type": "code",
   "execution_count": 39,
   "id": "ecde081b",
   "metadata": {},
   "outputs": [],
   "source": [
    "with open('primer.json', 'w') as dat:\n",
    "    json.dump([1, {3: True, 4: None}], dat, indent=4)"
   ]
  },
  {
   "cell_type": "code",
   "execution_count": 40,
   "id": "e458ce03",
   "metadata": {},
   "outputs": [
    {
     "name": "stdout",
     "output_type": "stream",
     "text": [
      "primer.json\n",
      "1 [\n",
      "2     1,\n",
      "3     {\n",
      "4         \"3\": true,\n",
      "5         \"4\": null\n",
      "6     }\n",
      "7 ]"
     ]
    }
   ],
   "source": [
    "izpisi_datoteko('primer.json')"
   ]
  },
  {
   "cell_type": "markdown",
   "id": "8b4eebe2",
   "metadata": {},
   "source": [
    "Podobno obstaja funkcija `load`, ki datoteko prebere:"
   ]
  },
  {
   "cell_type": "code",
   "execution_count": 41,
   "id": "8d3e9247",
   "metadata": {},
   "outputs": [
    {
     "data": {
      "text/plain": [
       "[1, {'3': True, '4': None}]"
      ]
     },
     "execution_count": 41,
     "metadata": {},
     "output_type": "execute_result"
    }
   ],
   "source": [
    "with open('primer.json') as datoteka:\n",
    "    vrednost = json.load(datoteka)\n",
    "vrednost"
   ]
  }
 ],
 "metadata": {
  "jupytext": {
   "cell_metadata_filter": "-all",
   "formats": "md:myst",
   "text_representation": {
    "extension": ".md",
    "format_name": "myst",
    "format_version": 0.13,
    "jupytext_version": "1.10.1"
   }
  },
  "kernelspec": {
   "display_name": "Python 3",
   "language": "python",
   "name": "python3"
  },
  "language_info": {
   "codemirror_mode": {
    "name": "ipython",
    "version": 3
   },
   "file_extension": ".py",
   "mimetype": "text/x-python",
   "name": "python",
   "nbconvert_exporter": "python",
   "pygments_lexer": "ipython3",
   "version": "3.7.10"
  },
  "source_map": [
   14,
   30,
   33,
   37,
   41,
   43,
   47,
   51,
   53,
   57,
   59,
   72,
   79,
   83,
   87,
   89,
   93,
   97,
   101,
   109,
   111,
   133,
   139,
   141,
   145,
   151,
   153,
   157,
   163,
   169,
   171,
   175,
   181,
   187,
   189,
   202,
   226,
   230,
   234,
   236,
   240,
   242,
   246,
   251,
   254,
   258,
   262,
   264,
   275,
   279,
   286,
   288,
   292,
   296,
   300,
   302,
   306,
   308,
   341,
   344,
   348,
   351,
   357,
   362,
   364,
   368,
   373,
   375,
   379
  ]
 },
 "nbformat": 4,
 "nbformat_minor": 5
}