{
 "cells": [
  {
   "cell_type": "markdown",
   "id": "ee65d1b8",
   "metadata": {},
   "source": [
    "# Datoteke\n",
    "\n",
    "## Branje datotek\n",
    "\n",
    "Recimo, da imamo datoteko `stavki.txt` s sledečo vsebino:\n",
    "\n",
    "```\n",
    "To je prvi stavek. To je drugi\n",
    "stavek. To je tretji stavek. To\n",
    "je četrti stavek.\n",
    "```\n",
    "\n",
    "Če vsebino želimo prebrati, moramo datoteko najprej odpreti. To storimo s funkcijo `open`. Klicu `open` lahko podamo tudi neobvezni argument `encoding`, ki poda kodno tabelo, v kateri je napisana datoteka. Težava je, da je privzeta vrednost parametra na Windowsih `cp1250`, kar je precej zastarel standard, zato morate tam pisati `open(..., encoding='UTF-8')`."
   ]
  },
  {
   "cell_type": "code",
   "execution_count": 1,
   "id": "1ecc6f8a",
   "metadata": {},
   "outputs": [
    {
     "data": {
      "text/plain": [
       "<_io.TextIOWrapper name='stavki.txt' mode='r' encoding='UTF-8'>"
      ]
     },
     "execution_count": 1,
     "metadata": {},
     "output_type": "execute_result"
    }
   ],
   "source": [
    "dat = open('stavki.txt', encoding='UTF-8')\n",
    "dat"
   ]
  },
  {
   "cell_type": "markdown",
   "id": "9f1c0991",
   "metadata": {},
   "source": [
    "Dobili smo objekt `dat`, ki predstavlja dostop do vsebine datoteke. Najosnovnejša metoda je `read`, ki ob vsakem klicu prebere dano število znakov."
   ]
  },
  {
   "cell_type": "code",
   "execution_count": 2,
   "id": "8665f976",
   "metadata": {},
   "outputs": [
    {
     "data": {
      "text/plain": [
       "'To je prvi stavek. To je drugi\\nstav'"
      ]
     },
     "execution_count": 2,
     "metadata": {},
     "output_type": "execute_result"
    }
   ],
   "source": [
    "dat.read(35)"
   ]
  },
  {
   "cell_type": "code",
   "execution_count": 3,
   "id": "2407fa77",
   "metadata": {},
   "outputs": [
    {
     "data": {
      "text/plain": [
       "'ek. To je tretji sta'"
      ]
     },
     "execution_count": 3,
     "metadata": {},
     "output_type": "execute_result"
    }
   ],
   "source": [
    "dat.read(20)"
   ]
  },
  {
   "cell_type": "markdown",
   "id": "845a8bf0",
   "metadata": {},
   "source": [
    "Če števila ne podamo, datoteko preberemo do konca:"
   ]
  },
  {
   "cell_type": "code",
   "execution_count": 4,
   "id": "e7e5a26a",
   "metadata": {},
   "outputs": [
    {
     "data": {
      "text/plain": [
       "'vek. To\\nje četrti stavek.\\n'"
      ]
     },
     "execution_count": 4,
     "metadata": {},
     "output_type": "execute_result"
    }
   ],
   "source": [
    "dat.read()"
   ]
  },
  {
   "cell_type": "code",
   "execution_count": 5,
   "id": "00db0b4d",
   "metadata": {},
   "outputs": [
    {
     "data": {
      "text/plain": [
       "''"
      ]
     },
     "execution_count": 5,
     "metadata": {},
     "output_type": "execute_result"
    }
   ],
   "source": [
    "dat.read()"
   ]
  },
  {
   "cell_type": "markdown",
   "id": "0760b779",
   "metadata": {},
   "source": [
    "Datoteko je treba po koncu uporabe treba zapreti, da lahko do nje dostopajo tudi drugi programi. Se vam je kdaj zgodilo, da USB ključka niste mogli varno odstraniti, ker naj bi ga uporabljal še nek program? Težava je bila, da slabo napisan program ni zaprli dostopa do datotek, zato je operacijski sistem mislil, da jih še vedno uporablja. Datotetko lahko zapremo z metodo `close`."
   ]
  },
  {
   "cell_type": "code",
   "execution_count": 6,
   "id": "309fbf1c",
   "metadata": {},
   "outputs": [],
   "source": [
    "dat.close()"
   ]
  },
  {
   "cell_type": "markdown",
   "id": "dea1b3ac",
   "metadata": {},
   "source": [
    "Da ne pozabimo zapreti datoteke, ali pa da nam zapiranja ne prepreči napaka v programu, Python ponuja varnejši način odpiranja datotek. Če napišemo\n",
    "\n",
    "```python\n",
    "with open('stavki.txt') as dat:\n",
    "    ...\n",
    "```\n",
    "\n",
    "bo Python samodejno poskrbel za zapiranje datoteke, ko se bodo izvedli vsi stavki `...`. To bo veljalo tudi v primeru, če kakšen izmed stavkov sproži izjemo in prekine izvajanje.\n",
    " \n",
    "Za branje po vrsticah lahko uporabimo metodi `readline` in `readlines`:"
   ]
  },
  {
   "cell_type": "code",
   "execution_count": 7,
   "id": "22ebc2d1",
   "metadata": {},
   "outputs": [],
   "source": [
    "with open('stavki.txt') as dat:\n",
    "    prva = dat.readline()\n",
    "    druga = dat.readline()\n",
    "    ostale = dat.readlines()"
   ]
  },
  {
   "cell_type": "code",
   "execution_count": 8,
   "id": "7cde4240",
   "metadata": {},
   "outputs": [
    {
     "data": {
      "text/plain": [
       "'To je prvi stavek. To je drugi\\n'"
      ]
     },
     "execution_count": 8,
     "metadata": {},
     "output_type": "execute_result"
    }
   ],
   "source": [
    "prva"
   ]
  },
  {
   "cell_type": "code",
   "execution_count": 9,
   "id": "fc281262",
   "metadata": {},
   "outputs": [
    {
     "data": {
      "text/plain": [
       "'stavek. To je tretji stavek. To\\n'"
      ]
     },
     "execution_count": 9,
     "metadata": {},
     "output_type": "execute_result"
    }
   ],
   "source": [
    "druga"
   ]
  },
  {
   "cell_type": "code",
   "execution_count": 10,
   "id": "ec52df81",
   "metadata": {},
   "outputs": [
    {
     "data": {
      "text/plain": [
       "['je četrti stavek.\\n']"
      ]
     },
     "execution_count": 10,
     "metadata": {},
     "output_type": "execute_result"
    }
   ],
   "source": [
    "ostale"
   ]
  },
  {
   "cell_type": "markdown",
   "id": "25eacc24",
   "metadata": {},
   "source": [
    "Po vrsticah se lahko zapeljemo z zanko `for`:"
   ]
  },
  {
   "cell_type": "code",
   "execution_count": 11,
   "id": "9d4bcd12",
   "metadata": {},
   "outputs": [
    {
     "name": "stdout",
     "output_type": "stream",
     "text": [
      "31 To je prvi stavek. To je drugi\n",
      "\n",
      "32 stavek. To je tretji stavek. To\n",
      "\n",
      "18 je četrti stavek.\n",
      "\n"
     ]
    }
   ],
   "source": [
    "with open('stavki.txt') as dat:\n",
    "    for vrstica in dat:\n",
    "        print(len(vrstica), vrstica)"
   ]
  },
  {
   "cell_type": "markdown",
   "id": "010b1545",
   "metadata": {},
   "source": [
    "Vidimo, da so med izpisanimi vrsticami tudi prazne. Te so posledice tega, da vsaka vrstica datoteke na koncu vsebuje znak za novo vrstico, en tak znak pa doda še `print`."
   ]
  },
  {
   "cell_type": "code",
   "execution_count": 12,
   "id": "1bacb3e1",
   "metadata": {},
   "outputs": [],
   "source": [
    "def izpisi_datoteko(ime_datoteke):\n",
    "    print(ime_datoteke)\n",
    "    with open(ime_datoteke) as dat:\n",
    "        for st_vrstice, vrstica in enumerate(dat, 1):\n",
    "            print(st_vrstice, vrstica, end='')"
   ]
  },
  {
   "cell_type": "code",
   "execution_count": 13,
   "id": "c8484614",
   "metadata": {},
   "outputs": [
    {
     "name": "stdout",
     "output_type": "stream",
     "text": [
      "stavki.txt\n",
      "1 To je prvi stavek. To je drugi\n",
      "2 stavek. To je tretji stavek. To\n",
      "3 je četrti stavek.\n"
     ]
    }
   ],
   "source": [
    "izpisi_datoteko('stavki.txt')"
   ]
  },
  {
   "cell_type": "markdown",
   "id": "c5a458d5",
   "metadata": {},
   "source": [
    "## Pisanje datotek\n",
    "\n",
    "Datoteke lahko tudi pišemo, vendar jih moramo ustrezno odpreti, kar naredimo kot:\n",
    "Na Windowsih, kjer je treba podat\n",
    "\n",
    "```python\n",
    "with open(..., 'w') as d:\n",
    "    ...\n",
    "```\n",
    "\n",
    "oziroma\n",
    "\n",
    "\n",
    "```python\n",
    "with open(..., 'w', encoding='UTF-8') as d:\n",
    "    ...\n",
    "```\n",
    "\n",
    "Ko datoteko odpremo za pisanje, lahko vanjo pišemo z metodo `write`"
   ]
  },
  {
   "cell_type": "code",
   "execution_count": 14,
   "id": "f14aff47",
   "metadata": {},
   "outputs": [],
   "source": [
    "with open('izpis.txt', 'w') as dat:\n",
    "    dat.write('To je ')\n",
    "    dat.write('en stavek.\\nTo je drugi.')"
   ]
  },
  {
   "cell_type": "code",
   "execution_count": 15,
   "id": "f9033b53",
   "metadata": {},
   "outputs": [
    {
     "name": "stdout",
     "output_type": "stream",
     "text": [
      "izpis.txt\n",
      "1 To je en stavek.\n",
      "2 To je drugi."
     ]
    }
   ],
   "source": [
    "izpisi_datoteko('izpis.txt')"
   ]
  },
  {
   "cell_type": "markdown",
   "id": "f7a0b4e8",
   "metadata": {},
   "source": [
    "V datoteko pišemo tudi s `print`, ki mu podamo neobvezni argument `file`:"
   ]
  },
  {
   "cell_type": "code",
   "execution_count": 16,
   "id": "01fa7347",
   "metadata": {},
   "outputs": [],
   "source": [
    "with open('izpis.txt', 'w') as dat:\n",
    "    print('To je en stavek.', file=dat)\n",
    "    print('1 + 1 =', 1 + 1, file=dat)"
   ]
  },
  {
   "cell_type": "code",
   "execution_count": 17,
   "id": "a6f8a08f",
   "metadata": {},
   "outputs": [
    {
     "name": "stdout",
     "output_type": "stream",
     "text": [
      "izpis.txt\n",
      "1 To je en stavek.\n",
      "2 1 + 1 = 2\n"
     ]
    }
   ],
   "source": [
    "izpisi_datoteko('izpis.txt')"
   ]
  },
  {
   "cell_type": "markdown",
   "id": "e4e5b740",
   "metadata": {},
   "source": [
    "Vsakič, ko datoteko odpremo za pisanje, povozimo obstoječo vsebino:"
   ]
  },
  {
   "cell_type": "code",
   "execution_count": 18,
   "id": "bdd18a7d",
   "metadata": {},
   "outputs": [],
   "source": [
    "with open('izpis.txt', 'w') as dat:\n",
    "    print('To je en stavek.', file=dat)\n",
    "    print('To je drugi.', file=dat)"
   ]
  },
  {
   "cell_type": "code",
   "execution_count": 19,
   "id": "244eac66",
   "metadata": {},
   "outputs": [],
   "source": [
    "with open('izpis.txt', 'w') as dat:\n",
    "    print('To je tretji stavek.', file=dat)\n",
    "    print('To je četrti.', file=dat)"
   ]
  },
  {
   "cell_type": "code",
   "execution_count": 20,
   "id": "8fe8dfa0",
   "metadata": {},
   "outputs": [
    {
     "name": "stdout",
     "output_type": "stream",
     "text": [
      "izpis.txt\n",
      "1 To je tretji stavek.\n",
      "2 To je četrti.\n"
     ]
    }
   ],
   "source": [
    "izpisi_datoteko('izpis.txt')"
   ]
  },
  {
   "cell_type": "markdown",
   "id": "17add704",
   "metadata": {},
   "source": [
    "Če želimo, lahko namesto `w` podamo parameter `a`, ki datoteko odpremo za dodajanje:"
   ]
  },
  {
   "cell_type": "code",
   "execution_count": 21,
   "id": "4bdcc6ff",
   "metadata": {},
   "outputs": [],
   "source": [
    "with open('izpis.txt', 'w') as d:\n",
    "    print('To je en stavek.', file=d)\n",
    "    print('To je drugi.', file=d)"
   ]
  },
  {
   "cell_type": "code",
   "execution_count": 22,
   "id": "d6f7b80d",
   "metadata": {},
   "outputs": [],
   "source": [
    "with open('izpis.txt', 'a') as d:\n",
    "    print('To je tretji stavek.', file=d)\n",
    "    print('To je četrti.', file=d)"
   ]
  },
  {
   "cell_type": "code",
   "execution_count": 23,
   "id": "34e52c29",
   "metadata": {},
   "outputs": [
    {
     "name": "stdout",
     "output_type": "stream",
     "text": [
      "izpis.txt\n",
      "1 To je en stavek.\n",
      "2 To je drugi.\n",
      "3 To je tretji stavek.\n",
      "4 To je četrti.\n"
     ]
    }
   ],
   "source": [
    "izpisi_datoteko('izpis.txt')"
   ]
  },
  {
   "cell_type": "markdown",
   "id": "a2c7710e",
   "metadata": {},
   "source": [
    "## Delo z datotečnim sistemom\n",
    "\n",
    "\n",
    "Tako, kot si daljše programe shranjujemo v datoteke, si tudi večje količine podatkov shranimo v datoteke. Poglejmo si najprej, kako so datoteke na računalniku sploh organizirane. Vsak nosilec podatkov (trdi disk, SSD, DVD, USB ključek) ima podatke zapisane v določenem datotečnem sistemu, ki je odvisen od vrste nosilca in operacijskega sistema. Na primer, trdi diski pod Windowsi so običajno formatirani v sistemu NTFS, pod Linuxom v sistemu Ext, na Macintoshu pa v sistemu HFS. USB ključki so zaradi lažje prenosljivosti ponavadi vsi formatirani v sistemu FAT (ki se je včasih uporabljal pod Windowsi). Če želimo, lahko na nosilcu naredimo več particij in vsako od njih ločeno formatiramo s svojim datotečnim sistemom.\n",
    "\n",
    "Datotečni sistem določa, v kakšni obliki je na nosilcu shranjena vsebina datotek in v kakšni obliki je predstavljena uporabniku. S prvim se ne bomo ukvarjali, pri drugem pa je pomembna le razlika med operacijskim sistemom Windows in sistemi, osnovanimi na UNIXu (torej Linux ali OS X).\n",
    "\n",
    "Datotečni sistem vsebuje datoteke, razporejene po mapah (oz. direktorijih), ki so lahko tudi gnezdene. Na vrhu imamo korensko mapo, ki jo v operacijskih sistemih, osnovanih na UNIXu, označujemo z `/`, na operacijskem sistemu Windows pa z `C:\\`, kjer je `C` ime particije: `C` običajno označuje glavni pogon, `D` drugi pogon ali CD/DVD/BlueRay enoto, `A` in `B` sta se uporabljali za diskete, kasnejše črke pa se uporabljajo za USB ključke in podobno.\n",
    "\n",
    "Za primer vzemimo datotečni sistem s sledečimi mapami in datotekami:"
   ]
  },
  {
   "cell_type": "markdown",
   "id": "4c16ab22",
   "metadata": {},
   "source": [
    "```\n",
    "/\n",
    "    uvp\n",
    "        datoteke\n",
    "            vhodna.txt\n",
    "            izhodna.txt\n",
    "        funkcije.py\n",
    "        seznami.py\n",
    "        slovarji.py\n",
    "        zanke.py\n",
    "    praktikum\n",
    "        latex\n",
    "            pismo.tex\n",
    "            pismo.pdf\n",
    "            pismo.aux\n",
    "        mathematica\n",
    "            grafi.nb\n",
    "            kolokvij.nb\n",
    "    analiza\n",
    "        plonkec.tex\n",
    "```"
   ]
  },
  {
   "cell_type": "markdown",
   "id": "b6bfc4df",
   "metadata": {},
   "source": [
    "Vsaka datoteka ima absolutno pot, na kateri jo lahko najdemo. Na primer absolutna pot datoteke `pismo.tex` je `/praktikum/latex/pismo.tex` oz. `C:\\praktikum\\latex\\pismo.tex` na Windowsih. Do datotek kaže tudi relativna pot. Na primer, glede na imenik `praktikum` je pot do `pismo.tex` kar `latex/pismo.tex`. Če želimo, gremo z `..` tudi ven iz trenutnega imenika. Na primer, glede na imenik `mathematica` je relativna pot do `vhodna.txt` enaka `../../uvp/datoteke/vhodna.txt`."
   ]
  },
  {
   "cell_type": "markdown",
   "id": "4c5411f6",
   "metadata": {},
   "source": [
    "Za delo z datotečnim sistemom je na voljo knjižnica `os`:"
   ]
  },
  {
   "cell_type": "code",
   "execution_count": 24,
   "id": "3dc46409",
   "metadata": {},
   "outputs": [],
   "source": [
    "import os"
   ]
  },
  {
   "cell_type": "markdown",
   "id": "db14e010",
   "metadata": {},
   "source": [
    "Trenutni imenik dobimo z `os.getcwd`:"
   ]
  },
  {
   "cell_type": "code",
   "execution_count": 25,
   "id": "68a250bc",
   "metadata": {},
   "outputs": [
    {
     "data": {
      "text/plain": [
       "'/home/runner/work/uvod-v-programiranje/uvod-v-programiranje/zapiski'"
      ]
     },
     "execution_count": 25,
     "metadata": {},
     "output_type": "execute_result"
    }
   ],
   "source": [
    "os.getcwd()"
   ]
  },
  {
   "cell_type": "markdown",
   "id": "46ff8638",
   "metadata": {},
   "source": [
    "zamenjamo pa ga z `os.chdir`, ki sprejme absolutno ali relativno pot:"
   ]
  },
  {
   "cell_type": "code",
   "execution_count": 26,
   "id": "bd099ce3",
   "metadata": {},
   "outputs": [
    {
     "data": {
      "text/plain": [
       "'/home/runner/work/uvod-v-programiranje/uvod-v-programiranje'"
      ]
     },
     "execution_count": 26,
     "metadata": {},
     "output_type": "execute_result"
    }
   ],
   "source": [
    "os.chdir('..')\n",
    "os.getcwd()"
   ]
  },
  {
   "cell_type": "code",
   "execution_count": 27,
   "id": "552e1a35",
   "metadata": {},
   "outputs": [
    {
     "data": {
      "text/plain": [
       "'/home/runner/work/uvod-v-programiranje/uvod-v-programiranje/zapiski'"
      ]
     },
     "execution_count": 27,
     "metadata": {},
     "output_type": "execute_result"
    }
   ],
   "source": [
    "os.chdir('zapiski')\n",
    "os.getcwd()"
   ]
  },
  {
   "cell_type": "markdown",
   "id": "59714a67",
   "metadata": {},
   "source": [
    "Imena vseh datotek v danem imeniku dobimo z `os.listdir`:"
   ]
  },
  {
   "cell_type": "code",
   "execution_count": 28,
   "id": "fe974e0b",
   "metadata": {},
   "outputs": [
    {
     "data": {
      "text/plain": [
       "['07-razredi.md',\n",
       " '05-seznami-in-nabori.md',\n",
       " '00-uvod.md',\n",
       " '08-datoteke.md',\n",
       " '_build',\n",
       " 'izpis.txt',\n",
       " '09-tekstovni-vmesnik.md',\n",
       " 'slike',\n",
       " '_config.yml',\n",
       " '_toc.yml',\n",
       " '03-nizi.md',\n",
       " '02-rekurzija.md',\n",
       " 'stavki.txt',\n",
       " '06-slovarji-in-mnozice.md',\n",
       " '04-zanke.md',\n",
       " '01-uvod-v-python.md']"
      ]
     },
     "execution_count": 28,
     "metadata": {},
     "output_type": "execute_result"
    }
   ],
   "source": [
    "os.listdir()"
   ]
  },
  {
   "cell_type": "code",
   "execution_count": 29,
   "id": "b513fb10",
   "metadata": {},
   "outputs": [
    {
     "data": {
      "text/plain": [
       "['avtoceste.png', 'skica-vmesnika.png', 'skica-modela.png']"
      ]
     },
     "execution_count": 29,
     "metadata": {},
     "output_type": "execute_result"
    }
   ],
   "source": [
    "os.listdir('slike')"
   ]
  },
  {
   "cell_type": "markdown",
   "id": "aaeafdbe",
   "metadata": {},
   "source": [
    "Vse funkcije za delo z datotekami lahko najdete v [uradni dokumentaciji], ostale pogosto uporabljene pa so:\n",
    "\n",
    "- `os.mkdir(pot)`, ki naredi imenik z dano potjo.\n",
    "- `os.makedirs(pot, exist_ok=False)`, ki naredi imenik z dano potjo in vse vmesne imenike. Če je argument `exist_ok` nastavljen na `True`, ne javi napake, če ciljna mapa že obstaja.\n",
    "- `os.rename(stara_pot, nova_pot)` datoteko ali imenik s potjo `stara_pot` preimenuje v `nova_pot`.\n",
    "- `os.remove(pot)` pobriše datoteko z dano potjo.\n",
    "- `os.rmdir(pot)` pobriše imenik z dano potjo.\n",
    "- `os.removedirs(pot)` pobriše imenik z dano potjo in vse vmesne imenike."
   ]
  },
  {
   "cell_type": "markdown",
   "id": "28d4a8c9",
   "metadata": {},
   "source": [
    "Poleg knjižnice `os` je na voljo tudi knjižnica `os.path` za delo z datotečnimi potmi:"
   ]
  },
  {
   "cell_type": "markdown",
   "id": "daa30747",
   "metadata": {},
   "source": [
    "- `os.path.join(pot1, pot2)` stakni poti `pot1` in `pot2`, pri čemer ustrezno poskrbi za prava ločila glede na operacijski sistem.\n",
    "- `os.path.isdir(pot)` vrne `True`, kadar `pot` vodi do imenika.\n",
    "- `os.path.exists(pot)` vrne `True`, kadar `pot` obstaja v datotečnem sistemu.\n",
    "- `os.path.splitext(pot)` loči pot datoteke na del pred končnico in del za njo:"
   ]
  },
  {
   "cell_type": "code",
   "execution_count": 30,
   "id": "296f60a6",
   "metadata": {},
   "outputs": [
    {
     "data": {
      "text/plain": [
       "('/imenik/podimenik/test', '.txt')"
      ]
     },
     "execution_count": 30,
     "metadata": {},
     "output_type": "execute_result"
    }
   ],
   "source": [
    "os.path.splitext('/imenik/podimenik/test.txt')"
   ]
  },
  {
   "cell_type": "markdown",
   "id": "8e44d172",
   "metadata": {},
   "source": [
    "- `os.path.split(pot)` loči na pot do zadnje imenika in na ime datoteke.  Do prve komponente lahko dostopamo tudi z `os.path.dirname(pot)`, do druge pa z metodo `os.path.basename(pot)`."
   ]
  },
  {
   "cell_type": "code",
   "execution_count": 31,
   "id": "8d11de38",
   "metadata": {},
   "outputs": [
    {
     "data": {
      "text/plain": [
       "('/imenik/podimenik', 'test.txt')"
      ]
     },
     "execution_count": 31,
     "metadata": {},
     "output_type": "execute_result"
    }
   ],
   "source": [
    "os.path.split('/imenik/podimenik/test.txt')"
   ]
  },
  {
   "cell_type": "code",
   "execution_count": 32,
   "id": "1b83a493",
   "metadata": {},
   "outputs": [
    {
     "data": {
      "text/plain": [
       "'/imenik/podimenik'"
      ]
     },
     "execution_count": 32,
     "metadata": {},
     "output_type": "execute_result"
    }
   ],
   "source": [
    "os.path.dirname('/imenik/podimenik/test.txt')"
   ]
  },
  {
   "cell_type": "code",
   "execution_count": 33,
   "id": "c9ca47a6",
   "metadata": {},
   "outputs": [
    {
     "data": {
      "text/plain": [
       "'test.txt'"
      ]
     },
     "execution_count": 33,
     "metadata": {},
     "output_type": "execute_result"
    }
   ],
   "source": [
    "os.path.basename('/imenik/podimenik/test.txt')"
   ]
  },
  {
   "cell_type": "markdown",
   "id": "6ea4ec77",
   "metadata": {},
   "source": [
    "- `os.path.abspath(pot)` dano pot pretvori v absolutno:"
   ]
  },
  {
   "cell_type": "code",
   "execution_count": 34,
   "id": "c4aef348",
   "metadata": {},
   "outputs": [
    {
     "data": {
      "text/plain": [
       "'/home/runner/work/uvod-v-programiranje/uvod-v-programiranje/02-rekurzija'"
      ]
     },
     "execution_count": 34,
     "metadata": {},
     "output_type": "execute_result"
    }
   ],
   "source": [
    "os.path.abspath('../02-rekurzija/')"
   ]
  },
  {
   "cell_type": "markdown",
   "id": "d67e577c",
   "metadata": {},
   "source": [
    "## JSON datoteke\n",
    "\n",
    "Za zapis strukturiranih podatkov je uveljavljen standard [JSON](https://www.json.org/json-sl.html), ki ga podpirajo skoraj vsa orodja za delo s podatki. Vrednosti v njem so lahko:\n",
    "- števila,\n",
    "- logični vrednosti `true` in `false` (pozorni bodite na malo začetnico),\n",
    "- nizi (ki jih obvezno pišemo med narekovaje `\"`),\n",
    "- ničelna vrednost `null` (ki igra enako vlogo kot `None`),\n",
    "- seznami (ki jih pišemo enako kot v Pythonu) ter\n",
    "- objekti (ki so podobno kot slovarji v Pythonu, le da so ključi lahko le nizi).\n",
    "\n",
    "Na primer:\n",
    "\n",
    "```json\n",
    "{\n",
    "  \"ime\": \"Anka Cvetnik\",\n",
    "  \"vpisnaStevilka\": 27123456,\n",
    "  \"visina\": 167.8,\n",
    "  \"prijatelji\": [27154321, 27165432],\n",
    "  \"predmetnik\": [\n",
    "    {\"predmet\": \"Analiza 1\", \"ocena\": 10},\n",
    "    {\"predmet\": \"Algebra 1\", \"ocena\": 10},\n",
    "    {\n",
    "      \"predmet\": \"Uvod v programiranje\",\n",
    "      \"ocena\": null\n",
    "    }\n",
    "  ]\n",
    "}\n",
    "```\n",
    "\n",
    "V Pythonu je delu z JSONom namenjena knjižnica `json`. Najenostavnejša funkcija v njej je `loads`, ki prebere niz z JSONom in vrne ustrezno Pythonovo vrednost:"
   ]
  },
  {
   "cell_type": "code",
   "execution_count": 35,
   "id": "b4adbe0a",
   "metadata": {},
   "outputs": [
    {
     "data": {
      "text/plain": [
       "[1, {'3': True, '4': None}]"
      ]
     },
     "execution_count": 35,
     "metadata": {},
     "output_type": "execute_result"
    }
   ],
   "source": [
    "import json\n",
    "json.loads('[1, {\"3\": true, \"4\": null}]')"
   ]
  },
  {
   "cell_type": "markdown",
   "id": "b48da1ac",
   "metadata": {},
   "source": [
    "V obratno smer deluje funkcija `json.dumps`, ki Pythonovo vrednost pretvori v JSON:"
   ]
  },
  {
   "cell_type": "code",
   "execution_count": 36,
   "id": "ace40ad0",
   "metadata": {},
   "outputs": [
    {
     "data": {
      "text/plain": [
       "'[1, {\"3\": true, \"4\": null}]'"
      ]
     },
     "execution_count": 36,
     "metadata": {},
     "output_type": "execute_result"
    }
   ],
   "source": [
    ">>> json.dumps([1, {3: True, 4: None}])\n",
    "'[1, {\"3\": true, \"4\": null}]'"
   ]
  },
  {
   "cell_type": "markdown",
   "id": "c1120e2b",
   "metadata": {},
   "source": [
    "Vidimo, da je funkcija ključe slovarjev tudi ustrezno spremenila v nize.\n",
    "\n",
    "Če želimo delati z JSON datotekami, imamo na voljo funkcijo `dump`, ki poleg vrednosti sprejme datoteko, v katero naj zapiše JSON vrednost."
   ]
  },
  {
   "cell_type": "code",
   "execution_count": 37,
   "id": "93778780",
   "metadata": {},
   "outputs": [],
   "source": [
    "with open('primer.json', 'w') as dat:\n",
    "    json.dump([1, {3: True, 4: None}], dat)"
   ]
  },
  {
   "cell_type": "code",
   "execution_count": 38,
   "id": "a4024178",
   "metadata": {},
   "outputs": [
    {
     "name": "stdout",
     "output_type": "stream",
     "text": [
      "primer.json\n",
      "1 [1, {\"3\": true, \"4\": null}]"
     ]
    }
   ],
   "source": [
    "izpisi_datoteko('primer.json')"
   ]
  },
  {
   "cell_type": "markdown",
   "id": "c666e582",
   "metadata": {},
   "source": [
    "Če želimo, lahko datoteko tudi lepo oblikujemo z zamiki:"
   ]
  },
  {
   "cell_type": "code",
   "execution_count": 39,
   "id": "338770d5",
   "metadata": {},
   "outputs": [],
   "source": [
    "with open('primer.json', 'w') as dat:\n",
    "    json.dump([1, {3: True, 4: None}], dat, indent=4)"
   ]
  },
  {
   "cell_type": "code",
   "execution_count": 40,
   "id": "46c8caa0",
   "metadata": {},
   "outputs": [
    {
     "name": "stdout",
     "output_type": "stream",
     "text": [
      "primer.json\n",
      "1 [\n",
      "2     1,\n",
      "3     {\n",
      "4         \"3\": true,\n",
      "5         \"4\": null\n",
      "6     }\n",
      "7 ]"
     ]
    }
   ],
   "source": [
    "izpisi_datoteko('primer.json')"
   ]
  },
  {
   "cell_type": "markdown",
   "id": "fcc4f0eb",
   "metadata": {},
   "source": [
    "Podobno obstaja funkcija `load`, ki datoteko prebere:"
   ]
  },
  {
   "cell_type": "code",
   "execution_count": 41,
   "id": "3e2b8379",
   "metadata": {},
   "outputs": [
    {
     "data": {
      "text/plain": [
       "[1, {'3': True, '4': None}]"
      ]
     },
     "execution_count": 41,
     "metadata": {},
     "output_type": "execute_result"
    }
   ],
   "source": [
    "with open('primer.json') as datoteka:\n",
    "    vrednost = json.load(datoteka)\n",
    "vrednost"
   ]
  }
 ],
 "metadata": {
  "jupytext": {
   "cell_metadata_filter": "-all",
   "formats": "md:myst",
   "text_representation": {
    "extension": ".md",
    "format_name": "myst",
    "format_version": 0.13,
    "jupytext_version": "1.10.1"
   }
  },
  "kernelspec": {
   "display_name": "Python 3",
   "language": "python",
   "name": "python3"
  },
  "language_info": {
   "codemirror_mode": {
    "name": "ipython",
    "version": 3
   },
   "file_extension": ".py",
   "mimetype": "text/x-python",
   "name": "python",
   "nbconvert_exporter": "python",
   "pygments_lexer": "ipython3",
   "version": "3.7.10"
  },
  "source_map": [
   14,
   30,
   33,
   37,
   41,
   43,
   47,
   51,
   53,
   57,
   59,
   72,
   79,
   83,
   87,
   89,
   93,
   97,
   101,
   109,
   111,
   133,
   139,
   141,
   145,
   151,
   153,
   157,
   163,
   169,
   171,
   175,
   181,
   187,
   189,
   202,
   226,
   230,
   234,
   236,
   240,
   242,
   246,
   251,
   254,
   258,
   262,
   264,
   275,
   279,
   286,
   288,
   292,
   296,
   300,
   302,
   306,
   308,
   341,
   344,
   348,
   351,
   357,
   362,
   364,
   368,
   373,
   375,
   379
  ]
 },
 "nbformat": 4,
 "nbformat_minor": 5
}