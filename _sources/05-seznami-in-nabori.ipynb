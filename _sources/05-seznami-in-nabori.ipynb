{
 "cells": [
  {
   "cell_type": "markdown",
   "id": "9ce8af56",
   "metadata": {},
   "source": [
    "(seznami-in-nabori)=\n",
    "\n",
    "# Seznami & nabori\n",
    "\n",
    "Če želimo delati z zaporedjem podatkov, uporabimo sezname. Sename pišemo v oglatih oklepajih, med katerimi napišemo vrednosti, ločene z vejicami, na primer `[10, 20, 30]` je seznam, ki vsebuje tri števila, `[]` pa prazen seznam. Če želimo, lahko vejico pišemo tudi za zadnjim elementom. Seznami so lahko tudi gnezdeni. Na primer, matriko bi predstavili s seznamom seznamov `[[1, 2, 3], [4, 5, 6], [7, 8, 9]]`. V sezname lahko spravimo vrednosti različnih tipov, na primer: `[1, True, [2, 5], \"Niz\", 3.14]` Vendar običajno sezname uporabimo za predstavitev homogene zbirke podatkov, torej da so vse vrednosti istega tipa.\n",
    "\n",
    "## Osnovne operacije na seznamih\n",
    "\n",
    "Precej operacij na seznamih je enakih kot na nizih. Sezname lahko stikamo z operacijo `+` in množimo s celimi števili:"
   ]
  },
  {
   "cell_type": "code",
   "execution_count": 1,
   "id": "d69262bc",
   "metadata": {},
   "outputs": [
    {
     "data": {
      "text/plain": [
       "[True, False, True]"
      ]
     },
     "execution_count": 1,
     "metadata": {},
     "output_type": "execute_result"
    }
   ],
   "source": [
    "[True, False] + [True]"
   ]
  },
  {
   "cell_type": "code",
   "execution_count": 2,
   "id": "fa653761",
   "metadata": {},
   "outputs": [
    {
     "data": {
      "text/plain": [
       "['x', 'y', 'x', 'y', 'x', 'y']"
      ]
     },
     "execution_count": 2,
     "metadata": {},
     "output_type": "execute_result"
    }
   ],
   "source": [
    "3 * ['x', 'y']"
   ]
  },
  {
   "cell_type": "markdown",
   "id": "e3510b12",
   "metadata": {},
   "source": [
    "Dolžino seznama dobimo s funkcijo `len`:"
   ]
  },
  {
   "cell_type": "code",
   "execution_count": 3,
   "id": "8181996e",
   "metadata": {},
   "outputs": [
    {
     "data": {
      "text/plain": [
       "3"
      ]
     },
     "execution_count": 3,
     "metadata": {},
     "output_type": "execute_result"
    }
   ],
   "source": [
    "len([100, 200, 300])"
   ]
  },
  {
   "cell_type": "code",
   "execution_count": 4,
   "id": "42d7a8b7",
   "metadata": {},
   "outputs": [
    {
     "data": {
      "text/plain": [
       "0"
      ]
     },
     "execution_count": 4,
     "metadata": {},
     "output_type": "execute_result"
    }
   ],
   "source": [
    "len([])"
   ]
  },
  {
   "cell_type": "markdown",
   "id": "d7e7f94f",
   "metadata": {},
   "source": [
    "Sezname med seboj primerjamo leksikografsko: najprej prvi par, če sta ta dva enaka, naslednji par in tako naprej."
   ]
  },
  {
   "cell_type": "code",
   "execution_count": 5,
   "id": "ebe14de3",
   "metadata": {},
   "outputs": [
    {
     "data": {
      "text/plain": [
       "True"
      ]
     },
     "execution_count": 5,
     "metadata": {},
     "output_type": "execute_result"
    }
   ],
   "source": [
    "[1, 100, 10000] < [2, 0, 0]"
   ]
  },
  {
   "cell_type": "markdown",
   "id": "39db998f",
   "metadata": {},
   "source": [
    "Prav tako imamo na voljo predikata `in` in `not in`, s katerima ugotovimo, ali se nek element pojavlja v seznamu:"
   ]
  },
  {
   "cell_type": "code",
   "execution_count": 6,
   "id": "f4bd13ce",
   "metadata": {},
   "outputs": [
    {
     "data": {
      "text/plain": [
       "True"
      ]
     },
     "execution_count": 6,
     "metadata": {},
     "output_type": "execute_result"
    }
   ],
   "source": [
    "prastevila = [2, 3, 5, 7, 11, 13, 17]\n",
    "5 in prastevila"
   ]
  },
  {
   "cell_type": "code",
   "execution_count": 7,
   "id": "5dfee8d9",
   "metadata": {},
   "outputs": [
    {
     "data": {
      "text/plain": [
       "True"
      ]
     },
     "execution_count": 7,
     "metadata": {},
     "output_type": "execute_result"
    }
   ],
   "source": [
    "15 not in prastevila"
   ]
  },
  {
   "cell_type": "markdown",
   "id": "5bdc30cd",
   "metadata": {},
   "source": [
    "Predikat `in` na seznamih se razlikuje od tistega na nizih v tem, da preverja le pojavitev elementov, ne pa podseznamov:"
   ]
  },
  {
   "cell_type": "code",
   "execution_count": 8,
   "id": "394be0de",
   "metadata": {},
   "outputs": [
    {
     "data": {
      "text/plain": [
       "False"
      ]
     },
     "execution_count": 8,
     "metadata": {},
     "output_type": "execute_result"
    }
   ],
   "source": [
    "[3, 5, 7] in prastevila"
   ]
  },
  {
   "cell_type": "markdown",
   "id": "80401aef",
   "metadata": {},
   "source": [
    "Na primer:"
   ]
  },
  {
   "cell_type": "code",
   "execution_count": 9,
   "id": "27e7ff4e",
   "metadata": {},
   "outputs": [],
   "source": [
    "def stevilo_dni(mesec, leto):\n",
    "    if mesec == 2:\n",
    "        return 29 if je_prestopno(leto) else 28\n",
    "    elif mesec in [4, 6, 9, 11]:\n",
    "        return 30\n",
    "    else:\n",
    "        return 31"
   ]
  },
  {
   "cell_type": "markdown",
   "id": "a3198275",
   "metadata": {},
   "source": [
    "Indeksiranje in rezine na seznamih delujejo tako kot na nizih:"
   ]
  },
  {
   "cell_type": "code",
   "execution_count": 10,
   "id": "d175ea47",
   "metadata": {},
   "outputs": [],
   "source": [
    "prastevila = [2, 3, 5, 7, 11, 13, 17]"
   ]
  },
  {
   "cell_type": "code",
   "execution_count": 11,
   "id": "e8eddb6d",
   "metadata": {},
   "outputs": [
    {
     "data": {
      "text/plain": [
       "5"
      ]
     },
     "execution_count": 11,
     "metadata": {},
     "output_type": "execute_result"
    }
   ],
   "source": [
    "prastevila[2]"
   ]
  },
  {
   "cell_type": "code",
   "execution_count": 12,
   "id": "c4cb631e",
   "metadata": {},
   "outputs": [
    {
     "data": {
      "text/plain": [
       "13"
      ]
     },
     "execution_count": 12,
     "metadata": {},
     "output_type": "execute_result"
    }
   ],
   "source": [
    "prastevila[-2]"
   ]
  },
  {
   "cell_type": "code",
   "execution_count": 13,
   "id": "aaab57ba",
   "metadata": {},
   "outputs": [
    {
     "data": {
      "text/plain": [
       "13"
      ]
     },
     "execution_count": 13,
     "metadata": {},
     "output_type": "execute_result"
    }
   ],
   "source": [
    "prastevila[len(prastevila) - 2]"
   ]
  },
  {
   "cell_type": "code",
   "execution_count": 14,
   "id": "a50ac2cc",
   "metadata": {},
   "outputs": [
    {
     "data": {
      "text/plain": [
       "[5, 7, 11]"
      ]
     },
     "execution_count": 14,
     "metadata": {},
     "output_type": "execute_result"
    }
   ],
   "source": [
    "prastevila[2:-2]"
   ]
  },
  {
   "cell_type": "code",
   "execution_count": 15,
   "id": "e8bfdeef",
   "metadata": {},
   "outputs": [
    {
     "data": {
      "text/plain": [
       "[2, 5, 11, 17]"
      ]
     },
     "execution_count": 15,
     "metadata": {},
     "output_type": "execute_result"
    }
   ],
   "source": [
    "prastevila[::2]"
   ]
  },
  {
   "cell_type": "markdown",
   "id": "0df0b039",
   "metadata": {},
   "source": [
    "Če imamo gnezdene sezname, do elementov dostopamo z gnezdenimi indeksi:"
   ]
  },
  {
   "cell_type": "code",
   "execution_count": 16,
   "id": "c278e8e9",
   "metadata": {},
   "outputs": [
    {
     "data": {
      "text/plain": [
       "2"
      ]
     },
     "execution_count": 16,
     "metadata": {},
     "output_type": "execute_result"
    }
   ],
   "source": [
    "mat = [[1, 0, 0], [0, -1, 2], [3, 1, 5]]\n",
    "mat[1][-1]"
   ]
  },
  {
   "cell_type": "markdown",
   "id": "389fbe24",
   "metadata": {},
   "source": [
    "Na primer, sled matrike bi lahko izračunali kot:"
   ]
  },
  {
   "cell_type": "code",
   "execution_count": 17,
   "id": "9f2190f1",
   "metadata": {},
   "outputs": [],
   "source": [
    "def sled(matrika):\n",
    "    \"\"\"Izračuna sled dane matrike.\"\"\"\n",
    "    vsota_diagonalnih = 0\n",
    "    for i in range(len(matrika)):\n",
    "        vsota_diagonalnih += matrika[i][i]\n",
    "    return vsota_diagonalnih"
   ]
  },
  {
   "cell_type": "code",
   "execution_count": 18,
   "id": "9679fa53",
   "metadata": {},
   "outputs": [],
   "source": [
    "mat = [[5]]"
   ]
  },
  {
   "cell_type": "code",
   "execution_count": 19,
   "id": "9f0aeb63",
   "metadata": {},
   "outputs": [
    {
     "data": {
      "text/plain": [
       "5"
      ]
     },
     "execution_count": 19,
     "metadata": {},
     "output_type": "execute_result"
    }
   ],
   "source": [
    "sled(mat)"
   ]
  },
  {
   "cell_type": "markdown",
   "id": "e990b1d9",
   "metadata": {},
   "source": [
    "Sledi pa nikakor ne bomo izračunali na sledeči (pri študentih dostikrat videni) način:"
   ]
  },
  {
   "cell_type": "code",
   "execution_count": 20,
   "id": "ec41f989",
   "metadata": {},
   "outputs": [],
   "source": [
    "def grozna_sled(matrika):\n",
    "    \"\"\"Na popolnoma napačen izračuna sled dane matrike.\"\"\"\n",
    "    vsota_diagonalnih = 0\n",
    "    for i in range(len(matrika)):\n",
    "        for j in range(len(matrika)):\n",
    "            if i == j:\n",
    "                vsota_diagonalnih += matrika[i][j]\n",
    "    return vsota_diagonalnih"
   ]
  },
  {
   "cell_type": "markdown",
   "id": "7733428b",
   "metadata": {},
   "source": [
    "Funkcija sled matrike sicer izračuna pravilno, vendar na izjemno potraten način, saj se sprehodi čez celotno matriko, ne le čez diagonalne elemente. Na primer, pri matriki velikosti $1000 \\times 1000$ bi druga funkcija pregledala tisočkrat več elementov (in posledično porabila tisočkrat več časa).\n",
    "\n",
    "## Zanke na seznamih\n",
    "\n",
    "Tako kot se lahko z zanko `for` sprehodimo po vseh znakih v nizu, se lahko z njo sprehodimo tudi po vseh elementih danega seznama:"
   ]
  },
  {
   "cell_type": "code",
   "execution_count": 21,
   "id": "17054062",
   "metadata": {},
   "outputs": [
    {
     "name": "stdout",
     "output_type": "stream",
     "text": [
      "10\n",
      "20\n",
      "30\n"
     ]
    }
   ],
   "source": [
    "for x in [10, 20, 30]:\n",
    "    print(x)"
   ]
  },
  {
   "cell_type": "markdown",
   "id": "ea6aa70f",
   "metadata": {},
   "source": [
    "Na primer, vsoto vseh elementov seznama bi definirali kot:"
   ]
  },
  {
   "cell_type": "code",
   "execution_count": 22,
   "id": "759273d4",
   "metadata": {},
   "outputs": [],
   "source": [
    "def vsota_elementov(seznam):\n",
    "    \"\"\"Vrne vsoto elementov v danem seznamu.\"\"\"\n",
    "    vsota = 0\n",
    "    for element in seznam:\n",
    "        vsota += element\n",
    "    return vsota"
   ]
  },
  {
   "cell_type": "code",
   "execution_count": 23,
   "id": "20850fee",
   "metadata": {},
   "outputs": [
    {
     "data": {
      "text/plain": [
       "4312"
      ]
     },
     "execution_count": 23,
     "metadata": {},
     "output_type": "execute_result"
    }
   ],
   "source": [
    "vsota_elementov([10, 2, 4000, 300])"
   ]
  },
  {
   "cell_type": "markdown",
   "id": "0ef4a7b6",
   "metadata": {},
   "source": [
    "Največji element v danem seznamu lahko poiščemo tako, da zaporedoma vsak element seznama primerjamo z do sedaj največjim videnim elementom. Če je trenutni element večji, do sedaj največji element popravimo. Ko pregledamo vse elemente v seznamu, je do sedaj največji element tudi na splošno največji element. Edina stvar, na katero moramo še paziti, je ta, da na začetku izberemo ustrezen največji element. Tu imamo dve dobri izbiri. (Slaba izbira bi bila, da bi za največji do zdaj viden element vzeli neko dovolj majhno število, na primer 0 ali -9999999 -- ta izbira je očitno napačna!) Prva dobra izbira je kar prvi element v seznamu, pri čemer moramo potem poprej preveriti še to, da je seznam neprazen:"
   ]
  },
  {
   "cell_type": "code",
   "execution_count": 24,
   "id": "0cbaaac8",
   "metadata": {},
   "outputs": [],
   "source": [
    "def najvecji_element(seznam):\n",
    "    \"\"\"Vrne največji element v danem seznamu. Če ga ni, vrne None\"\"\"\n",
    "    if len(seznam) == 0:\n",
    "        return\n",
    "    najvecji_do_zdaj = seznam[0]\n",
    "    for element in seznam:\n",
    "        if element > najvecji_do_zdaj:\n",
    "            najvecji_do_zdaj = element\n",
    "    return najvecji_do_zdaj"
   ]
  },
  {
   "cell_type": "code",
   "execution_count": 25,
   "id": "0a831c04",
   "metadata": {},
   "outputs": [
    {
     "data": {
      "text/plain": [
       "4000"
      ]
     },
     "execution_count": 25,
     "metadata": {},
     "output_type": "execute_result"
    }
   ],
   "source": [
    "najvecji_element([10, 2, 4000, 300])"
   ]
  },
  {
   "cell_type": "markdown",
   "id": "0b7a6ac7",
   "metadata": {},
   "source": [
    "Seveda lahko uporabimo tudi vgrajene funkcije:"
   ]
  },
  {
   "cell_type": "code",
   "execution_count": 26,
   "id": "34610a9f",
   "metadata": {},
   "outputs": [
    {
     "data": {
      "text/plain": [
       "4312"
      ]
     },
     "execution_count": 26,
     "metadata": {},
     "output_type": "execute_result"
    }
   ],
   "source": [
    "sum([10, 2, 4000, 300])"
   ]
  },
  {
   "cell_type": "code",
   "execution_count": 27,
   "id": "f9d45bb5",
   "metadata": {},
   "outputs": [
    {
     "data": {
      "text/plain": [
       "2"
      ]
     },
     "execution_count": 27,
     "metadata": {},
     "output_type": "execute_result"
    }
   ],
   "source": [
    "min([10, 2, 4000, 300])"
   ]
  },
  {
   "cell_type": "code",
   "execution_count": 28,
   "id": "59e77d7e",
   "metadata": {},
   "outputs": [
    {
     "data": {
      "text/plain": [
       "4000"
      ]
     },
     "execution_count": 28,
     "metadata": {},
     "output_type": "execute_result"
    }
   ],
   "source": [
    "max([10, 2, 4000, 300])"
   ]
  },
  {
   "cell_type": "markdown",
   "id": "20f3cd5d",
   "metadata": {},
   "source": [
    "## Spreminjanje seznamov\n",
    "\n",
    "Za razliko od nizov lahko vrednosti v seznamih tudi spreminjamo:"
   ]
  },
  {
   "cell_type": "code",
   "execution_count": 29,
   "id": "8d9e54f6",
   "metadata": {},
   "outputs": [
    {
     "data": {
      "text/plain": [
       "20"
      ]
     },
     "execution_count": 29,
     "metadata": {},
     "output_type": "execute_result"
    }
   ],
   "source": [
    "sez = [10, 20, 30]\n",
    "sez[1]"
   ]
  },
  {
   "cell_type": "code",
   "execution_count": 30,
   "id": "1596c02e",
   "metadata": {},
   "outputs": [
    {
     "data": {
      "text/plain": [
       "[10, 40, 30]"
      ]
     },
     "execution_count": 30,
     "metadata": {},
     "output_type": "execute_result"
    }
   ],
   "source": [
    "sez[1] = 40\n",
    "sez"
   ]
  },
  {
   "cell_type": "markdown",
   "id": "256368c3",
   "metadata": {},
   "source": [
    "Zamenjamo lahko tudi celotno **rezino**"
   ]
  },
  {
   "cell_type": "code",
   "execution_count": 31,
   "id": "aa3ad6e1",
   "metadata": {},
   "outputs": [
    {
     "data": {
      "text/plain": [
       "[20, 30]"
      ]
     },
     "execution_count": 31,
     "metadata": {},
     "output_type": "execute_result"
    }
   ],
   "source": [
    "sez = [10, 20, 30, 40]\n",
    "sez[1:3]\n",
    "[20, 30]"
   ]
  },
  {
   "cell_type": "code",
   "execution_count": 32,
   "id": "8f1a2c30",
   "metadata": {},
   "outputs": [
    {
     "data": {
      "text/plain": [
       "[10, 0, 0, 0, 40]"
      ]
     },
     "execution_count": 32,
     "metadata": {},
     "output_type": "execute_result"
    }
   ],
   "source": [
    "sez[1:3] = [0, 0, 0]\n",
    "sez"
   ]
  },
  {
   "cell_type": "markdown",
   "id": "b688d723",
   "metadata": {},
   "source": [
    "Če nadomestna rezina ni enake dolžine kot prvotna, se seznam ustrezno skrajša ali podaljša. Nadomestimo tudi prazno rezino, s čimer nove elemente vrinemo v seznam. Nadomeščanje prazne rezine ni isto kot nadomeščanje elementa z istim indeksom kot rezina:"
   ]
  },
  {
   "cell_type": "code",
   "execution_count": 33,
   "id": "50185647",
   "metadata": {},
   "outputs": [
    {
     "data": {
      "text/plain": [
       "[10, 20, 0, 0, 0, 30, 40]"
      ]
     },
     "execution_count": 33,
     "metadata": {},
     "output_type": "execute_result"
    }
   ],
   "source": [
    "sez = [10, 20, 30, 40]\n",
    "sez[2:2] = [0, 0, 0]\n",
    "sez"
   ]
  },
  {
   "cell_type": "code",
   "execution_count": 34,
   "id": "f7471c03",
   "metadata": {},
   "outputs": [
    {
     "data": {
      "text/plain": [
       "[10, 20, [0, 0, 0], 40]"
      ]
     },
     "execution_count": 34,
     "metadata": {},
     "output_type": "execute_result"
    }
   ],
   "source": [
    "sez = [10, 20, 30, 40]\n",
    "sez[2] = [0, 0, 0]\n",
    "sez"
   ]
  },
  {
   "cell_type": "markdown",
   "id": "b2388727",
   "metadata": {},
   "source": [
    "Tako elemente kot rezine lahko tudi **brišemo**"
   ]
  },
  {
   "cell_type": "code",
   "execution_count": 35,
   "id": "08180007",
   "metadata": {},
   "outputs": [
    {
     "data": {
      "text/plain": [
       "[10, 30, 40, 50]"
      ]
     },
     "execution_count": 35,
     "metadata": {},
     "output_type": "execute_result"
    }
   ],
   "source": [
    "sez = [10, 20, 30, 40, 50]\n",
    "del sez[1]\n",
    "sez"
   ]
  },
  {
   "cell_type": "code",
   "execution_count": 36,
   "id": "3671e054",
   "metadata": {},
   "outputs": [],
   "source": [
    "sez = [10, 20, 30, 40, 50]\n",
    "del sez[2:4]"
   ]
  },
  {
   "cell_type": "markdown",
   "id": "328711b9",
   "metadata": {},
   "source": [
    "Pri spreminjanju seznamov je treba biti previden, saj ne deluje tako, kot smo navajeni pri spreminjanju vrednosti spremenljivk. Na primer, če pišemo"
   ]
  },
  {
   "cell_type": "code",
   "execution_count": 37,
   "id": "8998e086",
   "metadata": {},
   "outputs": [
    {
     "data": {
      "text/plain": [
       "5"
      ]
     },
     "execution_count": 37,
     "metadata": {},
     "output_type": "execute_result"
    }
   ],
   "source": [
    "a = 5\n",
    "b = a\n",
    "a = 0\n",
    "b"
   ]
  },
  {
   "cell_type": "markdown",
   "id": "3d1cd977",
   "metadata": {},
   "source": [
    "Vidimo, da se vrednost spremenljivke `b` ni spremenila, ko smo spremenili `a`, saj smo jo v drugi vrstici nastavili na število 5\\. Pri seznamih je stvar malo drugačna. Če pišemo"
   ]
  },
  {
   "cell_type": "code",
   "execution_count": 38,
   "id": "0396c489",
   "metadata": {},
   "outputs": [
    {
     "data": {
      "text/plain": [
       "[1, 1, 1]"
      ]
     },
     "execution_count": 38,
     "metadata": {},
     "output_type": "execute_result"
    }
   ],
   "source": [
    "a = [1, 1, 1]\n",
    "b = a\n",
    "a = [2, 2, 2]\n",
    "b"
   ]
  },
  {
   "cell_type": "markdown",
   "id": "0200956f",
   "metadata": {},
   "source": [
    "so stvari še vedno take, kot bi jih pričakovali. Vrednost `b` smo nastavili na isti seznam kot `a`, vendar smo potem rekli, da naj bo v `a` shranjen drugačen seznam, s čimer na vrednost v `b` nismo vplivali. Če pa pišemo"
   ]
  },
  {
   "cell_type": "code",
   "execution_count": 39,
   "id": "c3c5c034",
   "metadata": {},
   "outputs": [
    {
     "data": {
      "text/plain": [
       "[1, 2, 1]"
      ]
     },
     "execution_count": 39,
     "metadata": {},
     "output_type": "execute_result"
    }
   ],
   "source": [
    "a = [1, 1, 1]\n",
    "b = a\n",
    "a[1] = 2\n",
    "b"
   ]
  },
  {
   "cell_type": "markdown",
   "id": "a82949e4",
   "metadata": {},
   "source": [
    "se je s tem, ko smo spremenili `a`, spremenil tudi `b`. Kaj se je zgodilo? Ko smo napisali `b = a`, smo povedali, naj bo v `b` shranjen isti seznam kot `a`. In z `a[1] = 2` smo povedali, naj se na mesto `1` v seznamu, shranjenem v `a`, zapiše 2\\. Ker je v `b` shranjen isti (ne le enak) seznam kot v `a`, je s tem tudi seznam v `b` drugačen. Da je zmeda večja, `+=` ni samo okrajšava za `=` in `+`, kot smo navajeni pri številih:"
   ]
  },
  {
   "cell_type": "code",
   "execution_count": 40,
   "id": "53028ed5",
   "metadata": {},
   "outputs": [
    {
     "data": {
      "text/plain": [
       "[1, 1, 1]"
      ]
     },
     "execution_count": 40,
     "metadata": {},
     "output_type": "execute_result"
    }
   ],
   "source": [
    "a = [1, 1, 1]\n",
    "b = a\n",
    "a = a + [2, 2, 2]\n",
    "b"
   ]
  },
  {
   "cell_type": "code",
   "execution_count": 41,
   "id": "dbbe54bf",
   "metadata": {},
   "outputs": [
    {
     "data": {
      "text/plain": [
       "[1, 1, 1, 2, 2, 2]"
      ]
     },
     "execution_count": 41,
     "metadata": {},
     "output_type": "execute_result"
    }
   ],
   "source": [
    "a = [1, 1, 1]\n",
    "b = a\n",
    "a += [2, 2, 2]\n",
    "b"
   ]
  },
  {
   "cell_type": "markdown",
   "id": "a5b919e2",
   "metadata": {},
   "source": [
    "V prvem primeru izračunamo nov seznam `a + [2, 2, 2]` in ga shranimo pod ime `a`, s čimer se `b` ne spremeni. V drugem primeru pa je `+=` operacija, ki razširi obstoječi seznam. Ker gre pri `a` in `b` za isti seznam, se spremeni tudi seznam v `b`.\n",
    "\n",
    "Pogosta past, v katero se na začetku ujamemo zaradi spremenljivosti seznamov, je izračun identične matrike. Vemo že, da lahko v Pythonu seznam pomnožimo s številom:"
   ]
  },
  {
   "cell_type": "code",
   "execution_count": 42,
   "id": "aa447369",
   "metadata": {},
   "outputs": [
    {
     "data": {
      "text/plain": [
       "[0, 0, 0]"
      ]
     },
     "execution_count": 42,
     "metadata": {},
     "output_type": "execute_result"
    }
   ],
   "source": [
    "3 * [0]"
   ]
  },
  {
   "cell_type": "markdown",
   "id": "e1fe14c4",
   "metadata": {},
   "source": [
    "To nam da idejo, da bi lahko na isti način izračunali ničelno matriko:"
   ]
  },
  {
   "cell_type": "code",
   "execution_count": 43,
   "id": "fab7f7b3",
   "metadata": {},
   "outputs": [
    {
     "data": {
      "text/plain": [
       "[[0, 0, 0], [0, 0, 0], [0, 0, 0]]"
      ]
     },
     "execution_count": 43,
     "metadata": {},
     "output_type": "execute_result"
    }
   ],
   "source": [
    "3 * [3 * [0]]"
   ]
  },
  {
   "cell_type": "markdown",
   "id": "686c0d4a",
   "metadata": {},
   "source": [
    "Izračun je videti pravilen, vendar vse tri vrstice te matrike kažejo na isti seznam. To je tako, kot če bi pisali:"
   ]
  },
  {
   "cell_type": "code",
   "execution_count": 44,
   "id": "e383d239",
   "metadata": {},
   "outputs": [],
   "source": [
    "vrstica = [0, 0, 0]"
   ]
  },
  {
   "cell_type": "code",
   "execution_count": 45,
   "id": "f4e1b586",
   "metadata": {},
   "outputs": [],
   "source": [
    "matrika = [vrstica, vrstica, vrstica]"
   ]
  },
  {
   "cell_type": "markdown",
   "id": "c0a13e66",
   "metadata": {},
   "source": [
    "Poskusimo iz te matrike dobiti identično matriko tako, da po diagonali nastavimo enice. Najprej nastavimo prvi element v prvi vrstici:"
   ]
  },
  {
   "cell_type": "code",
   "execution_count": 46,
   "id": "f9ad6da2",
   "metadata": {},
   "outputs": [
    {
     "data": {
      "text/plain": [
       "[[1, 0, 0], [1, 0, 0], [1, 0, 0]]"
      ]
     },
     "execution_count": 46,
     "metadata": {},
     "output_type": "execute_result"
    }
   ],
   "source": [
    "matrika[0][0] = 1\n",
    "matrika"
   ]
  },
  {
   "cell_type": "markdown",
   "id": "13648c99",
   "metadata": {},
   "source": [
    "Kaj se je zgodilo? Ker druga in tretja vrstica kažeta na isti seznam kot prva, smo tudi v njima prvi element popravili na 1\\. Če sedaj nastavimo še drugi element v drugi vrstici in tretjega v tretji vrstici se zgodba ponovi:"
   ]
  },
  {
   "cell_type": "code",
   "execution_count": 47,
   "id": "bd4fb8ec",
   "metadata": {},
   "outputs": [
    {
     "data": {
      "text/plain": [
       "[[1, 1, 1], [1, 1, 1], [1, 1, 1]]"
      ]
     },
     "execution_count": 47,
     "metadata": {},
     "output_type": "execute_result"
    }
   ],
   "source": [
    "matrika[1][1] = 1\n",
    "matrika[2][2] = 1\n",
    "matrika"
   ]
  },
  {
   "cell_type": "markdown",
   "id": "1909a025",
   "metadata": {},
   "source": [
    "Če želimo identično matriko izračunati na pravilen način, moramo za predstavitev vsake vrstice podati svoj seznam, zato ne moremo uporabiti le pomnoževanja seznamov.\n",
    "\n",
    "## Vgrajene metode na seznamih\n",
    "\n",
    "Kot pri nizih za večino pogosto uporabljanih stvari na seznamih obstajajo že vgrajene metode. Te povečini ne vračajo ničesar, temveč le spremenijo dani seznam. Izjemi sta metodi `index` in `count`, ki vrneta vrednost in seznam pustita pri miru, ter metoda `pop` ki tako spremeni seznam kot vrne vrednost. Vse metode so naštete v [uradni dokumentaciji](https://docs.python.org/3/tutorial/datastructures.html#more-on-lists), najbolj osnovne izmed njih pa so:\n",
    "\n",
    "- `sez.append(x)` na konec seznama `sez` doda element `x`."
   ]
  },
  {
   "cell_type": "code",
   "execution_count": 48,
   "id": "79f403f0",
   "metadata": {},
   "outputs": [
    {
     "data": {
      "text/plain": [
       "[10, 20, 30, 40]"
      ]
     },
     "execution_count": 48,
     "metadata": {},
     "output_type": "execute_result"
    }
   ],
   "source": [
    "sez = [10, 20, 30]\n",
    "sez.append(40)\n",
    "sez"
   ]
  },
  {
   "cell_type": "markdown",
   "id": "fa0bf731",
   "metadata": {},
   "source": [
    "Metodo `append` pogosto uporabljamo za izračun seznama ustreznih elementov. To storimo tako, da ustvarimo prazen seznam, nato pa vanj z metodo `append` dodamo vsak ustrezen element. To je podoben postopek kot pri izračunu vsote ustreznih elementov, kjer smo ustvarili spremenljivko z začetno vrednostjo 0, nato pa ji prištevali ustrezne elemente.\n",
    "\n",
    "- `sez.extend(sez2)` na konec seznama `sez` doda vse elemente iz seznama `sez2`."
   ]
  },
  {
   "cell_type": "code",
   "execution_count": 49,
   "id": "4756525e",
   "metadata": {},
   "outputs": [
    {
     "data": {
      "text/plain": [
       "[10, 20, 30, 40, 50]"
      ]
     },
     "execution_count": 49,
     "metadata": {},
     "output_type": "execute_result"
    }
   ],
   "source": [
    "sez = [10, 20, 30]\n",
    "sez.extend([40, 50])\n",
    "sez"
   ]
  },
  {
   "cell_type": "markdown",
   "id": "9eb54925",
   "metadata": {},
   "source": [
    "Okrajšava `+=`, ki smo jo videli prej, pokliče natanko metodo `extend`."
   ]
  },
  {
   "cell_type": "code",
   "execution_count": 50,
   "id": "4a6cddb5",
   "metadata": {},
   "outputs": [
    {
     "data": {
      "text/plain": [
       "[10, 20, 30, 40, 50]"
      ]
     },
     "execution_count": 50,
     "metadata": {},
     "output_type": "execute_result"
    }
   ],
   "source": [
    "sez = [10, 20, 30]\n",
    "sez += [40, 50]\n",
    "sez"
   ]
  },
  {
   "cell_type": "markdown",
   "id": "065e4332",
   "metadata": {},
   "source": [
    "- `sez.insert(i, x)` pred element na mestu `i` v seznamu `sez` vstavi element `x`."
   ]
  },
  {
   "cell_type": "code",
   "execution_count": 51,
   "id": "ed8c0087",
   "metadata": {},
   "outputs": [
    {
     "data": {
      "text/plain": [
       "[10, 0, 20, 30]"
      ]
     },
     "execution_count": 51,
     "metadata": {},
     "output_type": "execute_result"
    }
   ],
   "source": [
    "sez = [10, 20, 30]\n",
    "sez.insert(1, 0)\n",
    "sez\n",
    "[10, 0, 20, 30]"
   ]
  },
  {
   "cell_type": "markdown",
   "id": "343447d7",
   "metadata": {},
   "source": [
    "- `sez.remove(x)` iz seznama `sez` odstrani prvo pojavitev vrednosti `x`."
   ]
  },
  {
   "cell_type": "code",
   "execution_count": 52,
   "id": "e98e81fe",
   "metadata": {},
   "outputs": [
    {
     "data": {
      "text/plain": [
       "[1, 1, 2, 3]"
      ]
     },
     "execution_count": 52,
     "metadata": {},
     "output_type": "execute_result"
    }
   ],
   "source": [
    "sez = [1, 2, 1, 2, 3]\n",
    "sez.remove(2)\n",
    "sez"
   ]
  },
  {
   "cell_type": "markdown",
   "id": "5978a543",
   "metadata": {},
   "source": [
    "- `sez.pop(i=-1)` vrne element na mestu `i` v seznamu `sez` in odstrani ta element iz seznama. Če indeksa `i` ne podamo, metoda odstrani zadnji element."
   ]
  },
  {
   "cell_type": "code",
   "execution_count": 53,
   "id": "6e44c50e",
   "metadata": {},
   "outputs": [
    {
     "data": {
      "text/plain": [
       "30"
      ]
     },
     "execution_count": 53,
     "metadata": {},
     "output_type": "execute_result"
    }
   ],
   "source": [
    "sez = [10, 20, 30]\n",
    "sez.pop()"
   ]
  },
  {
   "cell_type": "code",
   "execution_count": 54,
   "id": "53596812",
   "metadata": {},
   "outputs": [
    {
     "data": {
      "text/plain": [
       "[10, 20]"
      ]
     },
     "execution_count": 54,
     "metadata": {},
     "output_type": "execute_result"
    }
   ],
   "source": [
    "sez"
   ]
  },
  {
   "cell_type": "markdown",
   "id": "61e4c14d",
   "metadata": {},
   "source": [
    "- `sez.clear()` iz seznama `sez` pobriše vse elemente."
   ]
  },
  {
   "cell_type": "code",
   "execution_count": 55,
   "id": "10e5d888",
   "metadata": {},
   "outputs": [
    {
     "data": {
      "text/plain": [
       "[]"
      ]
     },
     "execution_count": 55,
     "metadata": {},
     "output_type": "execute_result"
    }
   ],
   "source": [
    "sez = [1, 2, 1, 2, 3]\n",
    "sez.clear()\n",
    "sez"
   ]
  },
  {
   "cell_type": "markdown",
   "id": "19f6f19f",
   "metadata": {},
   "source": [
    "- `sez.index(x)` vrne prvo mesto, na katerem se v seznamu `sez` nahaja vrednost `x`.\n",
    "\n",
    "- `sez.count(x)` vrne število pojavitev vrednosti `x` v seznamu `sez`.\n",
    "\n",
    "- `sez.sort(key=None, reverse=False)` na mestu uredi seznam glede na vrednosti funkcije `key`. Če parameter `reverse` nastavimo na `True`, bo seznam urejen padajoče."
   ]
  },
  {
   "cell_type": "code",
   "execution_count": 56,
   "id": "e28f59e5",
   "metadata": {},
   "outputs": [
    {
     "data": {
      "text/plain": [
       "[1, 2, 4, 8, 16]"
      ]
     },
     "execution_count": 56,
     "metadata": {},
     "output_type": "execute_result"
    }
   ],
   "source": [
    "sez = [4, 1, 8, 2, 16]\n",
    "sez.sort()\n",
    "sez"
   ]
  },
  {
   "cell_type": "code",
   "execution_count": 57,
   "id": "badfa2ac",
   "metadata": {},
   "outputs": [
    {
     "data": {
      "text/plain": [
       "[1, 2, 4, 8, 16]"
      ]
     },
     "execution_count": 57,
     "metadata": {},
     "output_type": "execute_result"
    }
   ],
   "source": [
    "sez = [4, 1, 8, 2, 16]\n",
    "sorted(sez)\n",
    "[1, 2, 4, 8, 16]"
   ]
  },
  {
   "cell_type": "markdown",
   "id": "53b8896c",
   "metadata": {},
   "source": [
    "- `sez.reverse()` obrne seznam `sez` na glavo."
   ]
  },
  {
   "cell_type": "code",
   "execution_count": 58,
   "id": "e90d878f",
   "metadata": {},
   "outputs": [
    {
     "data": {
      "text/plain": [
       "[16, 8, 4, 2, 1]"
      ]
     },
     "execution_count": 58,
     "metadata": {},
     "output_type": "execute_result"
    }
   ],
   "source": [
    "sez = [1, 2, 4, 8, 16]\n",
    "sez.reverse()\n",
    "sez"
   ]
  },
  {
   "cell_type": "markdown",
   "id": "847b3522",
   "metadata": {},
   "source": [
    "TODO: primerjava z rezinami"
   ]
  },
  {
   "cell_type": "code",
   "execution_count": 59,
   "id": "a4ef098d",
   "metadata": {},
   "outputs": [
    {
     "data": {
      "text/plain": [
       "[1, 2, 4, 8, 16]"
      ]
     },
     "execution_count": 59,
     "metadata": {},
     "output_type": "execute_result"
    }
   ],
   "source": [
    "sez = [1, 2, 4, 8, 16]\n",
    "sez[::-1]\n",
    "sez"
   ]
  },
  {
   "cell_type": "markdown",
   "id": "05fa2f48",
   "metadata": {},
   "source": [
    "## Izpeljani seznami\n",
    "\n",
    "Sezname dostikrat lepše zgradimo z _izpeljanimi seznami_, ki so oblike `[izraz for spremenljivka in mozne_vrednosti]`. Podobno kot v matematiki množice pišemo kot ${ 2 \\cdot n \\mid n \\in {1, \\dots, 9}}$, lahko v Pythonu napišemo seznam:"
   ]
  },
  {
   "cell_type": "code",
   "execution_count": 60,
   "id": "fd7184af",
   "metadata": {},
   "outputs": [
    {
     "data": {
      "text/plain": [
       "[2, 4, 6, 8, 10, 12, 14, 16, 18]"
      ]
     },
     "execution_count": 60,
     "metadata": {},
     "output_type": "execute_result"
    }
   ],
   "source": [
    "[2 * n for n in range(1, 10)]"
   ]
  },
  {
   "cell_type": "markdown",
   "id": "c41c984f",
   "metadata": {},
   "source": [
    "ali pa na primer:"
   ]
  },
  {
   "cell_type": "code",
   "execution_count": 61,
   "id": "cd1aa874",
   "metadata": {},
   "outputs": [
    {
     "data": {
      "text/plain": [
       "[1, 2, 4, 8, 16, 32, 64, 128, 256, 512]"
      ]
     },
     "execution_count": 61,
     "metadata": {},
     "output_type": "execute_result"
    }
   ],
   "source": [
    "potence = [2 ** n for n in range(10)]\n",
    "potence"
   ]
  },
  {
   "cell_type": "code",
   "execution_count": 62,
   "id": "47eb61aa",
   "metadata": {},
   "outputs": [
    {
     "data": {
      "text/plain": [
       "[0, 1, 3, 7, 15, 31, 63, 127, 255, 511]"
      ]
     },
     "execution_count": 62,
     "metadata": {},
     "output_type": "execute_result"
    }
   ],
   "source": [
    "[n - 1 for n in potence]"
   ]
  },
  {
   "cell_type": "code",
   "execution_count": 63,
   "id": "91d59e1e",
   "metadata": {},
   "outputs": [
    {
     "data": {
      "text/plain": [
       "[3, 1, 4, 1, 5, 9, 2]"
      ]
     },
     "execution_count": 63,
     "metadata": {},
     "output_type": "execute_result"
    }
   ],
   "source": [
    "[int(stevka) for stevka in str(3141592)]"
   ]
  },
  {
   "cell_type": "markdown",
   "id": "4056d57d",
   "metadata": {},
   "source": [
    "Če želimo, lahko v izpeljani seznamih oblike `[izraz for spremenljivka in mozne_vrednosti if pogoj]` s pogojem določimo, katere elemente želimo:"
   ]
  },
  {
   "cell_type": "code",
   "execution_count": 64,
   "id": "6a4601b5",
   "metadata": {},
   "outputs": [
    {
     "data": {
      "text/plain": [
       "[2, 8, 14]"
      ]
     },
     "execution_count": 64,
     "metadata": {},
     "output_type": "execute_result"
    }
   ],
   "source": [
    "[2 * n for n in range(1, 10) if n % 3 == 1]"
   ]
  },
  {
   "cell_type": "code",
   "execution_count": 65,
   "id": "bbd519c0",
   "metadata": {},
   "outputs": [
    {
     "data": {
      "text/plain": [
       "60"
      ]
     },
     "execution_count": 65,
     "metadata": {},
     "output_type": "execute_result"
    }
   ],
   "source": [
    "def vsota_pozitivnih_elementov(seznam):\n",
    "    \"\"\"Vrne seznam vseh pozitivnih elementov danega seznama.\"\"\"\n",
    "    return sum([element for element in seznam if element > 0])\n",
    "vsota_pozitivnih_elementov([10, -20, 50])"
   ]
  },
  {
   "cell_type": "markdown",
   "id": "45911d22",
   "metadata": {},
   "source": [
    "Zanke v izpeljanih seznamih so lahko gnezdene na dva načina. Prvi je, da kot elemente izpeljanega seznama spet podamo izpeljane sezname. Na primer, identično matriko lahko naredimo kot:"
   ]
  },
  {
   "cell_type": "code",
   "execution_count": 66,
   "id": "504a559a",
   "metadata": {},
   "outputs": [],
   "source": [
    "def identicna_matrika(n):\n",
    "    return [[1 if i == j else 0 for j in range(n)] for i in range(n)]"
   ]
  },
  {
   "cell_type": "markdown",
   "id": "66151e89",
   "metadata": {},
   "source": [
    "Lahko pa v izpeljanem seznamu naštejemo več zank, pri čemer ob vsakem koraku v obhodu prve spremenljivke naredimo obhod vseh preostalih:"
   ]
  },
  {
   "cell_type": "code",
   "execution_count": 67,
   "id": "717323f3",
   "metadata": {},
   "outputs": [
    {
     "data": {
      "text/plain": [
       "[(0, 0),\n",
       " (0, 1),\n",
       " (0, 2),\n",
       " (0, 3),\n",
       " (0, 4),\n",
       " (1, 1),\n",
       " (1, 2),\n",
       " (1, 3),\n",
       " (1, 4),\n",
       " (2, 2),\n",
       " (2, 3),\n",
       " (2, 4),\n",
       " (3, 3),\n",
       " (3, 4),\n",
       " (4, 4)]"
      ]
     },
     "execution_count": 67,
     "metadata": {},
     "output_type": "execute_result"
    }
   ],
   "source": [
    "def razlicni_pari(n):\n",
    "    return [(i, j) for i in range(n) for j in range(i, n)]\n",
    "razlicni_pari(5)"
   ]
  },
  {
   "cell_type": "markdown",
   "id": "cb621e10",
   "metadata": {},
   "source": [
    "Izpeljani seznami pa niso vedno rešitev, tudi če so krajši. Na primer, če je vsaka vrednost v seznamu odvisna od prejšnjih, jih ne moremo uporabiti. Z saj je\n",
    "\n",
    "## Nabori\n",
    "\n",
    "Nabori so prav tako kot seznami sestavljeni iz več elementov, pišemo pa jih med običajne oklepaje: `(1, 2, 3)`. Nabor z enim elementom pišemo kot `(1, )` (razmislite, zakaj ga ne pišemo kot `(1)`). Namen naborov je hranjenje heterogenih podatkov. To pomeni, da imajo elementi na različnih mestih različne pomene. Na primer, če vemo da vsako število v seznamu `[103, 111, 98, 106]` predstavlja rezultat neke meritve, bi podobno sklepali tudi, če bi v seznam dodali še kakšno drugo številko. Pri datumu `(25, 6, 1991)` pa imajo različne komponente različne pomene: prva predstavlja dan, druga mesec in tretje leto. Če bi dodali še četrto številko, bi morali povedati, kaj pomeni. Python nam seveda omogoča, da bi meritve zapisali kot `(103, 111, 98, 106)`, datum pa kot `[25, 6, 1991]`, vendar bomo sezname uporabljali za **poljubno število podatkov z enakim pomenom**, nabore pa za **fiksno število podatkov z različnimi pomeni**.\n",
    "\n",
    "S tem namenom so nabori v Pythonu nespremenljivi:"
   ]
  },
  {
   "cell_type": "code",
   "execution_count": 68,
   "id": "31ed5da4",
   "metadata": {
    "tags": [
     "raises-exception"
    ]
   },
   "outputs": [
    {
     "ename": "TypeError",
     "evalue": "'tuple' object does not support item assignment",
     "output_type": "error",
     "traceback": [
      "\u001b[0;31m---------------------------------------------------------------------------\u001b[0m",
      "\u001b[0;31mTypeError\u001b[0m                                 Traceback (most recent call last)",
      "\u001b[0;32m<ipython-input-68-042b39bcc772>\u001b[0m in \u001b[0;36m<module>\u001b[0;34m\u001b[0m\n\u001b[1;32m      1\u001b[0m \u001b[0mx\u001b[0m \u001b[0;34m=\u001b[0m \u001b[0;34m(\u001b[0m\u001b[0;36m1\u001b[0m\u001b[0;34m,\u001b[0m \u001b[0;36m1\u001b[0m\u001b[0;34m,\u001b[0m \u001b[0;36m1\u001b[0m\u001b[0;34m)\u001b[0m\u001b[0;34m\u001b[0m\u001b[0;34m\u001b[0m\u001b[0m\n\u001b[0;32m----> 2\u001b[0;31m \u001b[0mx\u001b[0m\u001b[0;34m[\u001b[0m\u001b[0;36m2\u001b[0m\u001b[0;34m]\u001b[0m \u001b[0;34m=\u001b[0m \u001b[0;36m2\u001b[0m\u001b[0;34m\u001b[0m\u001b[0;34m\u001b[0m\u001b[0m\n\u001b[0m",
      "\u001b[0;31mTypeError\u001b[0m: 'tuple' object does not support item assignment"
     ]
    }
   ],
   "source": [
    "x = (1, 1, 1)\n",
    "x[2] = 2"
   ]
  },
  {
   "cell_type": "markdown",
   "id": "5aa2a346",
   "metadata": {},
   "source": [
    "Sicer pa za nabore veljajo podobne lastnosti kot za sezname: lahko jih stikamo in množimo; lahko izračunamo njihovo vsoto, minimum, maksimum in dolžino; s predikatom `in` lahko pogledamo, ali vsebujejo dani element; lahko jih indeksiramo in delamo rezine; po njih se lahko sprehodimo z zanko `for`; od metod pa sta na voljo le `count` in `index`, saj ti dve edini ne spreminjata ničesar."
   ]
  },
  {
   "cell_type": "code",
   "execution_count": 69,
   "id": "8c83f24c",
   "metadata": {},
   "outputs": [
    {
     "data": {
      "text/plain": [
       "(True, False, True)"
      ]
     },
     "execution_count": 69,
     "metadata": {},
     "output_type": "execute_result"
    }
   ],
   "source": [
    "(True, False) + (True,)"
   ]
  },
  {
   "cell_type": "code",
   "execution_count": 70,
   "id": "82896ae8",
   "metadata": {},
   "outputs": [
    {
     "data": {
      "text/plain": [
       "('x', 'y', 'x', 'y', 'x', 'y')"
      ]
     },
     "execution_count": 70,
     "metadata": {},
     "output_type": "execute_result"
    }
   ],
   "source": [
    "3 * ('x', 'y')"
   ]
  },
  {
   "cell_type": "code",
   "execution_count": 71,
   "id": "c9701f71",
   "metadata": {},
   "outputs": [
    {
     "data": {
      "text/plain": [
       "False"
      ]
     },
     "execution_count": 71,
     "metadata": {},
     "output_type": "execute_result"
    }
   ],
   "source": [
    "5 in (1, 2, 3)"
   ]
  },
  {
   "cell_type": "code",
   "execution_count": 72,
   "id": "63113e0b",
   "metadata": {},
   "outputs": [
    {
     "data": {
      "text/plain": [
       "10"
      ]
     },
     "execution_count": 72,
     "metadata": {},
     "output_type": "execute_result"
    }
   ],
   "source": [
    "(1, 2, 5, 10, 20, 50)[3]"
   ]
  },
  {
   "cell_type": "code",
   "execution_count": 73,
   "id": "411729f6",
   "metadata": {},
   "outputs": [
    {
     "data": {
      "text/plain": [
       "(10, 20, 50)"
      ]
     },
     "execution_count": 73,
     "metadata": {},
     "output_type": "execute_result"
    }
   ],
   "source": [
    "(1, 2, 5, 10, 20, 50)[3:]"
   ]
  },
  {
   "cell_type": "markdown",
   "id": "7c26b7dd",
   "metadata": {},
   "source": [
    "Če imamo nabor, ga lahko razstavimo na posamezne spremenljivke, na primer"
   ]
  },
  {
   "cell_type": "code",
   "execution_count": 74,
   "id": "f84429b2",
   "metadata": {},
   "outputs": [
    {
     "data": {
      "text/plain": [
       "'25. 6. 1991'"
      ]
     },
     "execution_count": 74,
     "metadata": {},
     "output_type": "execute_result"
    }
   ],
   "source": [
    "datum = (25, 6, 1991)\n",
    "dan, mesec, leto = datum\n",
    "f'{dan}. {mesec}. {leto}'"
   ]
  },
  {
   "cell_type": "markdown",
   "id": "64c00b73",
   "metadata": {},
   "source": [
    "V resnici gre pri hkratnem prireditvenem stavku kot je\n",
    "\n",
    "```{code-block}\n",
    "x, y = 10, 20\n",
    "```\n",
    "\n",
    "za to, da najprej naredimo torej nabor z dvema komponentama oziroma par `(10, 20)`, nato pa ga razstavimo na dve spremenljivki.\n",
    "\n",
    "## Funkciji `enumerate` in `zip`\n",
    "\n",
    "Dostikrat želimo hkrati dostopati do elementov seznama in njihovih indeksov.\n",
    "\n",
    "Predstavimo polinome s seznamom koeficientov, urejenim od prostega proti vodilnemu členu. Polinom $3 - x^2$ bi tako predstavili s seznamom `[3, 0, -1]`. Pri izračunu vrednosti polinoma želimo hkrati dostopati tako do koeficientov kot do njihovih indeksov, ki ustrezajo potenci. To lahko storimo na več načinov. Lahko se vozimo po indeksih in prek njih dostopamo do koeficientov:"
   ]
  },
  {
   "cell_type": "code",
   "execution_count": 75,
   "id": "701919a1",
   "metadata": {},
   "outputs": [],
   "source": [
    "def vrednost_polinoma(polinom, x):\n",
    "    vsota = 0\n",
    "    for i in range(len(polinom)):\n",
    "        koef = polinom[i]\n",
    "        vsota += koef * x ** i\n",
    "    return vsota"
   ]
  },
  {
   "cell_type": "code",
   "execution_count": 76,
   "id": "a8ef1aa0",
   "metadata": {},
   "outputs": [
    {
     "data": {
      "text/plain": [
       "4"
      ]
     },
     "execution_count": 76,
     "metadata": {},
     "output_type": "execute_result"
    }
   ],
   "source": [
    "vrednost_polinoma([3, 0, 1], 1)"
   ]
  },
  {
   "cell_type": "code",
   "execution_count": 77,
   "id": "560d3def",
   "metadata": {},
   "outputs": [
    {
     "data": {
      "text/plain": [
       "7"
      ]
     },
     "execution_count": 77,
     "metadata": {},
     "output_type": "execute_result"
    }
   ],
   "source": [
    "vrednost_polinoma([3, 0, 1], 2)"
   ]
  },
  {
   "cell_type": "markdown",
   "id": "8c2bf626",
   "metadata": {},
   "source": [
    "Lahko se vozimo po koeficientih in hkrati povečujemo števec indeksa:"
   ]
  },
  {
   "cell_type": "code",
   "execution_count": 78,
   "id": "f54f7395",
   "metadata": {},
   "outputs": [],
   "source": [
    "def vrednost_polinoma(polinom, x):\n",
    "    vsota = 0\n",
    "    i = 0\n",
    "    for koef in polinom:\n",
    "        vsota += koef * x ** i\n",
    "        i += 1\n",
    "    return vsota"
   ]
  },
  {
   "cell_type": "markdown",
   "id": "49e3014e",
   "metadata": {},
   "source": [
    "````{warning}\n",
    "Paziti moramo, da indeksa ne računamo s pomočjo metode `index`, saj ta vrne indeks prve pojavitve iskane vrednosti, kar je narobe (pa še počasno):\n",
    "\n",
    "    ```{code-cell}\n",
    "    def napacna_vrednost_polinoma(polinom, x):\n",
    "        vsota = 0\n",
    "        for koef in polinom:\n",
    "            i = polinom.index(koef)\n",
    "            vsota += koef * x ** i\n",
    "        return vsota\n",
    "````\n",
    "\n",
    "````\n",
    "```{code-cell}\n",
    "vrednost_polinoma([0, 2, 0, 2], 3)\n",
    "```\n",
    "\n",
    "```{code-cell}\n",
    "napacna_vrednost_polinoma([0, 2, 0, 2], 3)\n",
    "```\n",
    "````\n",
    "\n",
    "````\n",
    "Ker je v spodnjem klicu funkcije metoda `index` za indeks prve pojavitve vrednosti 2 obakrat vrnila 1, je funkcija vrnila $2 \\cdot 3^1 + 2 \\cdot 3^1 = 6$ namesto $2 \\cdot 3^1 + 2 \\cdot 3^3 = 60$.\n",
    "\n",
    "Najbolj enostavno pa je, da uporabimo funkcijo `enumerate`, ki zaporedoma vrača pare, v katerih so druge komponente vrednosti danega seznama, prve komponente pa njihovi indeksi:\n",
    "\n",
    "```{code-cell}\n",
    "for x in enumerate('abc'):\n",
    "    print(x)\n",
    "````\n",
    "\n",
    "Pare, ki nam jih podaja `enumerate` lahko v dve spremenljivki razstavimo tudi v zanki `for`:"
   ]
  },
  {
   "cell_type": "code",
   "execution_count": 79,
   "id": "81e920c7",
   "metadata": {},
   "outputs": [
    {
     "name": "stdout",
     "output_type": "stream",
     "text": [
      "0 a\n",
      "1 b\n",
      "2 c\n"
     ]
    }
   ],
   "source": [
    "for i, x in enumerate('abc'):\n",
    "    print(i, x)"
   ]
  },
  {
   "cell_type": "markdown",
   "id": "9634ef58",
   "metadata": {},
   "source": [
    "S pomočjo funkcije `enumerate` lahko vrednost polinoma izračunamo kot:"
   ]
  },
  {
   "cell_type": "code",
   "execution_count": 80,
   "id": "8f4f0fa7",
   "metadata": {},
   "outputs": [],
   "source": [
    "def vrednost_polinoma(polinom, x):\n",
    "    vsota = 0\n",
    "    for i, koef in enumerate(polinom):\n",
    "        vsota += koef * x ** i\n",
    "    return vsota"
   ]
  },
  {
   "cell_type": "markdown",
   "id": "30d8e5ce",
   "metadata": {},
   "source": [
    "ali še krajše z izpeljanim seznamom:"
   ]
  },
  {
   "cell_type": "code",
   "execution_count": 81,
   "id": "c16eb15d",
   "metadata": {},
   "outputs": [],
   "source": [
    "def vrednost_polinoma(polinom, x):\n",
    "    return sum([koef * x ** i for i, koef in enumerate(polinom)])"
   ]
  },
  {
   "cell_type": "markdown",
   "id": "d334e878",
   "metadata": {},
   "source": [
    "Podobno kot `enumerate` deluje funkcija `zip`, ki sprejme več seznamov, vrne pa zaporedje naborov istoležnih elementov:"
   ]
  },
  {
   "cell_type": "code",
   "execution_count": 82,
   "id": "e6378069",
   "metadata": {},
   "outputs": [
    {
     "name": "stdout",
     "output_type": "stream",
     "text": [
      "('x', 10, 4)\n",
      "('y', 20, 5)\n",
      "('z', 30, 6)\n"
     ]
    }
   ],
   "source": [
    "for x in zip('xyz', [10, 20, 30], [4, 5, 6]):\n",
    "    print(x)"
   ]
  },
  {
   "cell_type": "markdown",
   "id": "b118c274",
   "metadata": {},
   "source": [
    "Funkciji se reče `zip`, ker združuje elemente različnih seznamov tako kot zadrga. Vrnjeno zaporedje ima toliko elementov, kot najkrajši argument funkcije:"
   ]
  },
  {
   "cell_type": "code",
   "execution_count": 83,
   "id": "b57ea37f",
   "metadata": {},
   "outputs": [
    {
     "name": "stdout",
     "output_type": "stream",
     "text": [
      "('x', 10)\n",
      "('y', 20)\n",
      "('z', 30)\n"
     ]
    }
   ],
   "source": [
    "for x in zip('xyz', [10, 20, 30, 40]):\n",
    "    print(x)"
   ]
  },
  {
   "cell_type": "markdown",
   "id": "73a80853",
   "metadata": {},
   "source": [
    "S pomočjo funkcije `zip` lahko enostavno izračunamo skalarni produkt:"
   ]
  },
  {
   "cell_type": "code",
   "execution_count": 84,
   "id": "5caa2255",
   "metadata": {},
   "outputs": [],
   "source": [
    "def skalarni_produkt(vektor1, vektor2):\n",
    "    \"\"\"Vrne skalarni produkt dveh vektorjev iste dimenzije.\"\"\"\n",
    "    assert len(vektor1) == len(vektor2)\n",
    "    vsota = 0\n",
    "    for x1, x2 in zip(vektor1, vektor2):\n",
    "        vsota += x1 * x2\n",
    "    return vsota"
   ]
  },
  {
   "cell_type": "markdown",
   "id": "cba00405",
   "metadata": {},
   "source": [
    "ali kot:"
   ]
  },
  {
   "cell_type": "code",
   "execution_count": 85,
   "id": "5f50b65c",
   "metadata": {},
   "outputs": [],
   "source": [
    "def skalarni_produkt(vektor1, vektor2):\n",
    "    \"\"\"Vrne skalarni produkt dveh vektorjev iste dimenzije.\"\"\"\n",
    "    assert len(vektor1) == len(vektor2)\n",
    "    return sum([x1 * x2 for x1, x2 in zip(vektor1, vektor2)])"
   ]
  },
  {
   "cell_type": "code",
   "execution_count": 86,
   "id": "c19be356",
   "metadata": {},
   "outputs": [
    {
     "data": {
      "text/plain": [
       "-2"
      ]
     },
     "execution_count": 86,
     "metadata": {},
     "output_type": "execute_result"
    }
   ],
   "source": [
    "skalarni_produkt([1, -2, 5], [-2, 5, 2])"
   ]
  }
 ],
 "metadata": {
  "jupytext": {
   "cell_metadata_filter": "-all",
   "formats": "md:myst",
   "text_representation": {
    "extension": ".md",
    "format_name": "myst",
    "format_version": "0.8",
    "jupytext_version": "1.5.0"
   }
  },
  "kernelspec": {
   "display_name": "Python 3",
   "language": "python",
   "name": "python3"
  },
  "language_info": {
   "codemirror_mode": {
    "name": "ipython",
    "version": 3
   },
   "file_extension": ".py",
   "mimetype": "text/x-python",
   "name": "python",
   "nbconvert_exporter": "python",
   "pygments_lexer": "ipython3",
   "version": "3.7.10"
  },
  "source_map": [
   14,
   26,
   30,
   32,
   36,
   40,
   42,
   46,
   48,
   52,
   57,
   59,
   63,
   65,
   69,
   77,
   81,
   85,
   89,
   93,
   97,
   101,
   103,
   107,
   110,
   114,
   123,
   127,
   129,
   133,
   142,
   150,
   153,
   157,
   166,
   168,
   172,
   184,
   186,
   190,
   194,
   198,
   200,
   206,
   211,
   214,
   218,
   224,
   227,
   231,
   237,
   241,
   245,
   251,
   254,
   258,
   263,
   267,
   272,
   276,
   281,
   285,
   292,
   297,
   303,
   305,
   309,
   311,
   315,
   319,
   321,
   325,
   328,
   332,
   336,
   346,
   350,
   356,
   360,
   364,
   368,
   372,
   377,
   381,
   385,
   389,
   394,
   396,
   400,
   404,
   412,
   418,
   422,
   426,
   430,
   434,
   438,
   444,
   446,
   450,
   455,
   459,
   461,
   465,
   469,
   474,
   478,
   481,
   485,
   489,
   499,
   503,
   507,
   511,
   515,
   519,
   523,
   525,
   529,
   533,
   549,
   558,
   562,
   564,
   568,
   576,
   612,
   615,
   619,
   625,
   629,
   632,
   636,
   639,
   643,
   646,
   650,
   658,
   662,
   669
  ]
 },
 "nbformat": 4,
 "nbformat_minor": 5
}