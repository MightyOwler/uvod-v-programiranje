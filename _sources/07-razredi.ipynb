{
 "cells": [
  {
   "cell_type": "markdown",
   "id": "87350fd9",
   "metadata": {},
   "source": [
    "# Razredi\n",
    "\n",
    "V Pythonu sorodne vrednosti združujemo v _razredih_. Posameznim pripadnikom razredov pravimo _objekti_. Vsi objekti istega razreda uporabljajo isto definicijo metod, vsak izmed njih pa ima svoje vrednosti, ki jim pravimo _atributi_. Na primer, seznami pripadajo razredu `list`. Vsak seznam ima svoje elemente, vsi pa podpirajo iste metode kot so `append`, `pop` ali `sort`, ki se na vsakem seznamu obnašajo na isti način. Nizi pripadajo razredu `str`. Vsak niz ima svoje znake, vsi pa imajo skupno definicije metod kot so `split`, `upper` in podobno.\n",
    "\n",
    "## Definicije lastnih razredov\n",
    "\n",
    "Če želimo, lahko definiramo tudi svoj razred. To naredimo z ukazom `class`, ki mu sledi ime razreda (pisano z veliko začetnico) ter zamaknjene definicije metod. Na primer, definirajmo si razred, ki bo predstavljal aritmetična zaporedja $a, a + d, a + 2d, a + 3d, \\ldots$. Za začetek definirajmo nobene metode, zato v definicijo napišimo le `pass`."
   ]
  },
  {
   "cell_type": "code",
   "execution_count": 1,
   "id": "ff8e7187",
   "metadata": {},
   "outputs": [],
   "source": [
    "class AritmeticnoZaporedje:\n",
    "    pass"
   ]
  },
  {
   "cell_type": "markdown",
   "id": "b1a7edfd",
   "metadata": {},
   "source": [
    "Nove objekte danega razreda dobimo tako, da napišemo ime razreda ter oklepaje:"
   ]
  },
  {
   "cell_type": "code",
   "execution_count": 2,
   "id": "342c9484",
   "metadata": {},
   "outputs": [
    {
     "data": {
      "text/plain": [
       "<__main__.AritmeticnoZaporedje at 0x7f44f0523350>"
      ]
     },
     "execution_count": 2,
     "metadata": {},
     "output_type": "execute_result"
    }
   ],
   "source": [
    "zap = AritmeticnoZaporedje()\n",
    "zap"
   ]
  },
  {
   "cell_type": "markdown",
   "id": "a95afddb",
   "metadata": {},
   "source": [
    "Dobili smo prazen objekt razreda `AritmeticnoZaporedje`, vendar z njim težko naredimo kaj pametnega. Do atributov objektov dostopamo prek `ime_objekta.ime_atributa`, vendar trenutno zaporedjem nismo nastavili še nobenega atributa:"
   ]
  },
  {
   "cell_type": "code",
   "execution_count": 3,
   "id": "c585eb0a",
   "metadata": {
    "tags": [
     "raises-exception"
    ]
   },
   "outputs": [
    {
     "ename": "AttributeError",
     "evalue": "'AritmeticnoZaporedje' object has no attribute 'zacetni_clen'",
     "output_type": "error",
     "traceback": [
      "\u001b[0;31m---------------------------------------------------------------------------\u001b[0m",
      "\u001b[0;31mAttributeError\u001b[0m                            Traceback (most recent call last)",
      "\u001b[0;32m<ipython-input-3-a47564ca2fa6>\u001b[0m in \u001b[0;36m<module>\u001b[0;34m\u001b[0m\n\u001b[0;32m----> 1\u001b[0;31m \u001b[0mzap\u001b[0m\u001b[0;34m.\u001b[0m\u001b[0mzacetni_clen\u001b[0m\u001b[0;34m\u001b[0m\u001b[0;34m\u001b[0m\u001b[0m\n\u001b[0m",
      "\u001b[0;31mAttributeError\u001b[0m: 'AritmeticnoZaporedje' object has no attribute 'zacetni_clen'"
     ]
    }
   ],
   "source": [
    "zap.zacetni_clen"
   ]
  },
  {
   "cell_type": "markdown",
   "id": "91b9f743",
   "metadata": {},
   "source": [
    "Na podoben način lahko atribute tudi nastavljamo:"
   ]
  },
  {
   "cell_type": "code",
   "execution_count": 4,
   "id": "a198fbd9",
   "metadata": {},
   "outputs": [],
   "source": [
    "zap.zacetni_clen = 2\n",
    "zap.razlika = 5"
   ]
  },
  {
   "cell_type": "code",
   "execution_count": 5,
   "id": "535ac273",
   "metadata": {},
   "outputs": [
    {
     "data": {
      "text/plain": [
       "42"
      ]
     },
     "execution_count": 5,
     "metadata": {},
     "output_type": "execute_result"
    }
   ],
   "source": [
    "zap.zacetni_clen + 8 * zap.razlika"
   ]
  },
  {
   "cell_type": "markdown",
   "id": "3a4cf94f",
   "metadata": {},
   "source": [
    "Definirajmo si tri metode: prva bo nastavila atributa, v katerih bosta shranjena začetni člen in razlika, drugi dve pa bosta izračunala člen na danem mestu ter vsoto do vključno tega člena."
   ]
  },
  {
   "cell_type": "code",
   "execution_count": 6,
   "id": "f10334fb",
   "metadata": {},
   "outputs": [],
   "source": [
    "class AritmeticnoZaporedje:\n",
    "    def nastavi_atribute(self, zacetni_clen, razlika):\n",
    "        self.zacetni_clen = zacetni_clen\n",
    "        self.razlika = razlika\n",
    "\n",
    "    def clen(self, i):\n",
    "        return self.zacetni_clen + i * self.razlika\n",
    "\n",
    "    def vsota(self, i):\n",
    "        return (i + 1) * self.zacetni_clen + i * (i + 1) // 2 * self.razlika"
   ]
  },
  {
   "cell_type": "markdown",
   "id": "20e93a06",
   "metadata": {},
   "source": [
    "Metode definiramo na enak način kot funkcije, le da na prvem mestu sprejmejo še dodatni argument, ki ga ponavadi imenujemo `self`, prek njega pa dostopamo do objekta, na katerem smo poklicali metodo."
   ]
  },
  {
   "cell_type": "code",
   "execution_count": 7,
   "id": "f639c216",
   "metadata": {},
   "outputs": [
    {
     "data": {
      "text/plain": [
       "2"
      ]
     },
     "execution_count": 7,
     "metadata": {},
     "output_type": "execute_result"
    }
   ],
   "source": [
    "zap = AritmeticnoZaporedje()\n",
    "zap.nastavi_atribute(2, 5)\n",
    "zap.clen(0)"
   ]
  },
  {
   "cell_type": "code",
   "execution_count": 8,
   "id": "5d93fd53",
   "metadata": {},
   "outputs": [
    {
     "data": {
      "text/plain": [
       "87"
      ]
     },
     "execution_count": 8,
     "metadata": {},
     "output_type": "execute_result"
    }
   ],
   "source": [
    "zap.vsota(5)"
   ]
  },
  {
   "cell_type": "markdown",
   "id": "6655cfb8",
   "metadata": {},
   "source": [
    "Ker objekt brez nastavljenih atributov ni preveč koristen, si jih bomo želeli nastaviti na začetku, ko objekt ustvarimo. To storimo tako, da definiramo posebno _inicializacijsko_ metodo z imenom `__init__`, ki jo bo Python poklical takoj za tem, ko ustvari nov prazen objekt. Metodi `__init__` lahko podamo tudi argumente, ki jih podamo ob konstrukciji objekta. Zgornjo definicijo razreda bi tako bolje napisali kot:"
   ]
  },
  {
   "cell_type": "code",
   "execution_count": 9,
   "id": "aa2e2185",
   "metadata": {},
   "outputs": [],
   "source": [
    "class AritmeticnoZaporedje:\n",
    "    def __init__(self, zacetni_clen, razlika):\n",
    "        self.zacetni_clen = zacetni_clen\n",
    "        self.razlika = razlika\n",
    "\n",
    "    def clen(self, i):\n",
    "        return self.zacetni_clen + i * self.razlika\n",
    "\n",
    "    def vsota(self, i):\n",
    "        return (i + 1) * self.zacetni_clen + i * (i + 1) // 2 * self.razlika"
   ]
  },
  {
   "cell_type": "code",
   "execution_count": 10,
   "id": "6127ac00",
   "metadata": {},
   "outputs": [
    {
     "data": {
      "text/plain": [
       "42"
      ]
     },
     "execution_count": 10,
     "metadata": {},
     "output_type": "execute_result"
    }
   ],
   "source": [
    "zap = AritmeticnoZaporedje(2, 5)\n",
    "zap.clen(8)"
   ]
  },
  {
   "cell_type": "markdown",
   "id": "abc4f1c8",
   "metadata": {},
   "source": [
    "Seveda lahko ustvarimo tudi več objektov:"
   ]
  },
  {
   "cell_type": "code",
   "execution_count": 11,
   "id": "725f2bfc",
   "metadata": {},
   "outputs": [
    {
     "data": {
      "text/plain": [
       "10000"
      ]
     },
     "execution_count": 11,
     "metadata": {},
     "output_type": "execute_result"
    }
   ],
   "source": [
    "liha_stevila = AritmeticnoZaporedje(1, 2)\n",
    "liha_stevila.vsota(99)"
   ]
  },
  {
   "cell_type": "markdown",
   "id": "acaa6092",
   "metadata": {},
   "source": [
    "## Posebne metode\n",
    "\n",
    "Poleg metode `__init__` smo dogovorjeni še za nekaj posebnih metod, ki se pokličejo ob danih trenutkih. Na primer, trenuten izpis v konzoli je precej nekoristen."
   ]
  },
  {
   "cell_type": "code",
   "execution_count": 12,
   "id": "f8f68a1e",
   "metadata": {},
   "outputs": [
    {
     "data": {
      "text/plain": [
       "<__main__.AritmeticnoZaporedje at 0x7f44f04a9dd0>"
      ]
     },
     "execution_count": 12,
     "metadata": {},
     "output_type": "execute_result"
    }
   ],
   "source": [
    "zap"
   ]
  },
  {
   "cell_type": "markdown",
   "id": "2d487a39",
   "metadata": {},
   "source": [
    "Izpis lahko popravimo z definicijo metode `__repr__`, ki vrne predstavitev objekta z nizem, Python pa jo pokliče, ko želi izpisati rezultat na konzolo. Podobna ji je metoda `__str__`, ki se pokliče takrat, ko objekt izpišemo. Namen prve je, da vrne izpis, koristen za nadaljnje delo v Pythonu, namen druge pa človeku prijazen izpis."
   ]
  },
  {
   "cell_type": "code",
   "execution_count": 13,
   "id": "16d353b4",
   "metadata": {},
   "outputs": [],
   "source": [
    "class AritmeticnoZaporedje:\n",
    "    def __init__(self, zacetni_clen, razlika):\n",
    "        self.zacetni_clen = zacetni_clen\n",
    "        self.razlika = razlika\n",
    "\n",
    "    def __repr__(self):\n",
    "        return f\"AritmeticnoZaporedje({self.zacetni_clen}, {self.razlika})\"\n",
    "\n",
    "    def __str__(self):\n",
    "        return f\"{self.clen(0)}, {self.clen(1)}, {self.clen(2)}, ...\"\n",
    "\n",
    "    def clen(self, i):\n",
    "        return self.zacetni_clen + i * self.razlika\n",
    "\n",
    "    def vsota(self, i):\n",
    "        return (i + 1) * self.zacetni_clen + i * (i + 1) // 2 * self.razlika"
   ]
  },
  {
   "cell_type": "code",
   "execution_count": 14,
   "id": "c61faa4f",
   "metadata": {},
   "outputs": [
    {
     "data": {
      "text/plain": [
       "AritmeticnoZaporedje(2, 5)"
      ]
     },
     "execution_count": 14,
     "metadata": {},
     "output_type": "execute_result"
    }
   ],
   "source": [
    "zap = AritmeticnoZaporedje(2, 5)\n",
    "zap"
   ]
  },
  {
   "cell_type": "code",
   "execution_count": 15,
   "id": "37d12726",
   "metadata": {},
   "outputs": [
    {
     "name": "stdout",
     "output_type": "stream",
     "text": [
      "2, 7, 12, ...\n"
     ]
    }
   ],
   "source": [
    "print(zap)"
   ]
  },
  {
   "cell_type": "markdown",
   "id": "05b2bd14",
   "metadata": {},
   "source": [
    "Takih metod je še precej:\n",
    "\n",
    "- ko napišemo `x + y`, se na objektu `x` pokliče `x.__add__(y)`, podobno je z ostalimi aritmetičnimi operacijami `__sub__`, `__mul__`, ...\n",
    "- ko napišemo `x == y`, se na objektu `x` pokliče `x.__eq__(y)`,\n",
    "- ko napišemo `x in y`, se na objektu `y` pokliče `y.__contains__(x)`,\n",
    "- ko napišemo `x[i]`, se na objektu `x` pokliče b`x.__getitem__(i)` in tako naprej.\n",
    "\n",
    "Seznam vseh posebnih metod najdete v [uradni dokumentaciji](https://docs.python.org/3/reference/datamodel.html#special-method-names)."
   ]
  },
  {
   "cell_type": "code",
   "execution_count": 16,
   "id": "5d410cb6",
   "metadata": {},
   "outputs": [],
   "source": [
    "class AritmeticnoZaporedje:\n",
    "    def __init__(self, zacetni_clen, razlika):\n",
    "        self.zacetni_clen = zacetni_clen\n",
    "        self.razlika = razlika\n",
    "\n",
    "    def __repr__(self):\n",
    "        return f\"AritmeticnoZaporedje({self.zacetni_clen}, {self.razlika})\"\n",
    "\n",
    "    def __str__(self):\n",
    "        return f\"{self.clen(0)}, {self.clen(1)}, {self.clen(2)}, ...\"\n",
    "\n",
    "    def __getitem__(self, i):\n",
    "        return self.zacetni_clen + i * self.razlika\n",
    "\n",
    "    def __contains__(self, x):\n",
    "        return (x - self.zacetni_clen) % self.razlika == 0\n",
    "\n",
    "    def __add__(self, other):\n",
    "        zacetni_clen_vsote = self.zacetni_clen + other.zacetni_clen\n",
    "        razlika_vsote = self.razlika + other.razlika\n",
    "        return AritmeticnoZaporedje(zacetni_clen_vsote, razlika_vsote)\n",
    "\n",
    "    def __eq__(self, other):\n",
    "        return self.zacetni_clen == other.zacetni_clen and self.razlka == other.razlika\n",
    "\n",
    "    def vsota(self, i):\n",
    "        return (i + 1) * self.zacetni_clen + i * (i + 1) // 2 * self.razlika"
   ]
  },
  {
   "cell_type": "code",
   "execution_count": 17,
   "id": "3830fbc1",
   "metadata": {},
   "outputs": [
    {
     "data": {
      "text/plain": [
       "AritmeticnoZaporedje(9, 8)"
      ]
     },
     "execution_count": 17,
     "metadata": {},
     "output_type": "execute_result"
    }
   ],
   "source": [
    "zap1 = AritmeticnoZaporedje(2, 5)\n",
    "zap2 = AritmeticnoZaporedje(7, 3)\n",
    "zap1 + zap2"
   ]
  },
  {
   "cell_type": "code",
   "execution_count": 18,
   "id": "42771e45",
   "metadata": {},
   "outputs": [
    {
     "data": {
      "text/plain": [
       "42"
      ]
     },
     "execution_count": 18,
     "metadata": {},
     "output_type": "execute_result"
    }
   ],
   "source": [
    "zap1[8]"
   ]
  },
  {
   "cell_type": "code",
   "execution_count": 19,
   "id": "6795ff44",
   "metadata": {},
   "outputs": [
    {
     "data": {
      "text/plain": [
       "False"
      ]
     },
     "execution_count": 19,
     "metadata": {},
     "output_type": "execute_result"
    }
   ],
   "source": [
    "42 in zap2"
   ]
  },
  {
   "cell_type": "code",
   "execution_count": 20,
   "id": "e4376425",
   "metadata": {},
   "outputs": [
    {
     "data": {
      "text/plain": [
       "False"
      ]
     },
     "execution_count": 20,
     "metadata": {},
     "output_type": "execute_result"
    }
   ],
   "source": [
    "zap1 + zap2 == AritmeticnoZaporedje(1, 8)"
   ]
  }
 ],
 "metadata": {
  "jupytext": {
   "cell_metadata_filter": "-all",
   "formats": "md:myst",
   "text_representation": {
    "extension": ".md",
    "format_name": "myst",
    "format_version": 0.13,
    "jupytext_version": "1.10.1"
   }
  },
  "kernelspec": {
   "display_name": "Python 3",
   "language": "python",
   "name": "python3"
  },
  "language_info": {
   "codemirror_mode": {
    "name": "ipython",
    "version": 3
   },
   "file_extension": ".py",
   "mimetype": "text/x-python",
   "name": "python",
   "nbconvert_exporter": "python",
   "pygments_lexer": "ipython3",
   "version": "3.7.10"
  },
  "source_map": [
   14,
   24,
   27,
   31,
   34,
   38,
   41,
   45,
   50,
   52,
   56,
   67,
   71,
   77,
   79,
   83,
   96,
   99,
   103,
   106,
   112,
   114,
   118,
   137,
   142,
   144,
   155,
   185,
   191,
   195,
   199
  ]
 },
 "nbformat": 4,
 "nbformat_minor": 5
}